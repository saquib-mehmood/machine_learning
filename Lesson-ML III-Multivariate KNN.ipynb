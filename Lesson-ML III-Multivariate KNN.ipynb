{
 "cells": [
  {
   "cell_type": "markdown",
   "metadata": {},
   "source": [
    "# Lesson - Machine Learning III: Multivariate K-nearest Neighbors\n",
    "\n",
    "Earlier, we explored how to use a simple k-nearest neighbors machine learning model that used just one feature, or attribute, of the listing to predict the rent price. We first relied on the accommodates column, which describes the number of people a living space can comfortably accommodate. Then, we switched to the bathrooms column and observed an improvement in accuracy. While these were good features to become familiar with the basics of machine learning, it's clear that using just a single feature to compare listings doesn't reflect the reality of the market. An apartment that can accommodate 4 guests in a popular part of Washington D.C. will rent for much higher than one that can accommodate 4 guests in a crime ridden area.\n",
    "\n",
    "There are 2 ways we can tweak the model to try to improve the accuracy (decrease the RMSE during validation):\n",
    "\n",
    "- increase the number of attributes (features) the model uses to calculate similarity when ranking the closest neighbors\n",
    "- increase k, the number of nearby neighbors the model uses when computing the prediction\n",
    "\n",
    "we'll focus on increasing the number of attributes the model uses. When selecting more attributes to use in the model, we need to watch out for columns that don't work well with the distance equation. This includes columns containing:\n",
    "\n",
    "non-numerical values (e.g. city or state)\n",
    "- Euclidean distance equation expects numerical values\n",
    "missing values\n",
    "- distance equation expects a value for each observation and attribute\n",
    "non-ordinal values (e.g. latitude or longitude)\n",
    "- ranking by Euclidean distance doesn't make sense if all attributes aren't ordinal"
   ]
  },
  {
   "cell_type": "code",
   "execution_count": 1,
   "metadata": {},
   "outputs": [],
   "source": [
    "import pandas as pd\n",
    "import numpy as np\n",
    "import matplotlib.pyplot as plt\n",
    "import seaborn as sns\n",
    "%matplotlib inline\n",
    "# Setting pandas display options for large data\n",
    "pd.options.display.max_rows = 200\n",
    "pd.options.display.max_columns = 150"
   ]
  },
  {
   "cell_type": "code",
   "execution_count": 2,
   "metadata": {
    "scrolled": true
   },
   "outputs": [
    {
     "name": "stdout",
     "output_type": "stream",
     "text": [
      "<class 'pandas.core.frame.DataFrame'>\n",
      "Int64Index: 3723 entries, 2678 to 2307\n",
      "Data columns (total 19 columns):\n",
      " #   Column                Non-Null Count  Dtype  \n",
      "---  ------                --------------  -----  \n",
      " 0   host_response_rate    3289 non-null   object \n",
      " 1   host_acceptance_rate  3109 non-null   object \n",
      " 2   host_listings_count   3723 non-null   int64  \n",
      " 3   accommodates          3723 non-null   int64  \n",
      " 4   room_type             3723 non-null   object \n",
      " 5   bedrooms              3702 non-null   float64\n",
      " 6   bathrooms             3696 non-null   float64\n",
      " 7   beds                  3712 non-null   float64\n",
      " 8   price                 3723 non-null   float64\n",
      " 9   cleaning_fee          2335 non-null   object \n",
      " 10  security_deposit      1426 non-null   object \n",
      " 11  minimum_nights        3723 non-null   int64  \n",
      " 12  maximum_nights        3723 non-null   int64  \n",
      " 13  number_of_reviews     3723 non-null   int64  \n",
      " 14  latitude              3723 non-null   float64\n",
      " 15  longitude             3723 non-null   float64\n",
      " 16  city                  3723 non-null   object \n",
      " 17  zipcode               3714 non-null   object \n",
      " 18  state                 3723 non-null   object \n",
      "dtypes: float64(6), int64(5), object(8)\n",
      "memory usage: 581.7+ KB\n"
     ]
    }
   ],
   "source": [
    "# Read the dataset and clean the price columns\n",
    "dc_listings = pd.read_csv('dc_airbnb.csv')\n",
    "dc_listings = dc_listings.loc[np.random.permutation(len(dc_listings))] # Note: Rerunning the Kernel will change \n",
    "# training and test datasets and results will always be different due to this line of code\n",
    "stripped_commas = dc_listings['price'].str.replace(',', '')\n",
    "stripped_dollars = stripped_commas.str.replace('$', '')\n",
    "dc_listings['price'] = stripped_dollars.astype('float')\n",
    "dc_listings.info()"
   ]
  },
  {
   "cell_type": "markdown",
   "metadata": {},
   "source": [
    "### Removing Features\n",
    "\n",
    "The following columns contain non-numerical values:\n",
    "\n",
    "`room_type`: e.g. Private room\n",
    "`city`: e.g. Washington\n",
    "`state`: e.g. DC\n",
    "while these columns contain numerical but non-ordinal values:\n",
    "\n",
    "`latitude`: e.g. 38.913458\n",
    "`longitude`: e.g. -77.031\n",
    "`zipcode`: e.g. 20009\n",
    "\n",
    "While we could convert the `host_response_rate` and `host_acceptance_rate` columns to be numerical (right now they're object data types and contain the % sign), these columns describe the host and not the living space itself. Since a host could have many living spaces and we don't have enough information to uniquely group living spaces to the hosts themselves, we'll avoid using any columns that don't directly describe the living space or the listing itself:\n",
    "\n",
    "`host_response_rate`\n",
    "`host_acceptance_rate`\n",
    "`host_listings_count`\n",
    "Let's remove these 9 columns from the Dataframe."
   ]
  },
  {
   "cell_type": "code",
   "execution_count": 3,
   "metadata": {
    "scrolled": true
   },
   "outputs": [
    {
     "name": "stdout",
     "output_type": "stream",
     "text": [
      "<class 'pandas.core.frame.DataFrame'>\n",
      "Int64Index: 3723 entries, 2678 to 2307\n",
      "Data columns (total 10 columns):\n",
      " #   Column             Non-Null Count  Dtype  \n",
      "---  ------             --------------  -----  \n",
      " 0   accommodates       3723 non-null   int64  \n",
      " 1   bedrooms           3702 non-null   float64\n",
      " 2   bathrooms          3696 non-null   float64\n",
      " 3   beds               3712 non-null   float64\n",
      " 4   price              3723 non-null   float64\n",
      " 5   cleaning_fee       2335 non-null   object \n",
      " 6   security_deposit   1426 non-null   object \n",
      " 7   minimum_nights     3723 non-null   int64  \n",
      " 8   maximum_nights     3723 non-null   int64  \n",
      " 9   number_of_reviews  3723 non-null   int64  \n",
      "dtypes: float64(4), int64(4), object(2)\n",
      "memory usage: 319.9+ KB\n"
     ]
    }
   ],
   "source": [
    "columns = ['room_type', 'city', 'state', 'latitude', 'longitude', 'zipcode', \n",
    "           'host_response_rate', 'host_acceptance_rate', 'host_listings_count']\n",
    "dc_listings = dc_listings.drop(columns = columns)\n",
    "dc_listings.info()"
   ]
  },
  {
   "cell_type": "markdown",
   "metadata": {},
   "source": [
    "### Missing Values\n",
    "\n",
    "Of the remaining columns, 3 columns have a few missing values (less than 1% of the total number of rows):\n",
    "\n",
    "`bedrooms`\n",
    "`bathrooms`\n",
    "`beds`\n",
    "Since the number of rows containing missing values for one of these 3 columns is low, we can select and remove those rows without losing much information. There are also 2 columns that have a large number of missing values:\n",
    "\n",
    "`cleaning_fee` - 37.3% of the rows\n",
    "`security_deposit` - 61.7% of the rows\n",
    "and we can't handle these easily. We can't just remove the rows containing missing values for these 2 columns because we'd miss out on the majority of the observations in the dataset. Instead, we'll remove these 2 columns entirely from consideration."
   ]
  },
  {
   "cell_type": "code",
   "execution_count": 4,
   "metadata": {},
   "outputs": [],
   "source": [
    "dc_listings = dc_listings.drop(columns = ['cleaning_fee', 'security_deposit'])\n",
    "dc_listings = dc_listings.dropna(axis = 0)\n",
    "dc_listings = dc_listings.reset_index(drop = True)"
   ]
  },
  {
   "cell_type": "code",
   "execution_count": 5,
   "metadata": {
    "scrolled": true
   },
   "outputs": [
    {
     "name": "stdout",
     "output_type": "stream",
     "text": [
      "<class 'pandas.core.frame.DataFrame'>\n",
      "RangeIndex: 3671 entries, 0 to 3670\n",
      "Data columns (total 8 columns):\n",
      " #   Column             Non-Null Count  Dtype  \n",
      "---  ------             --------------  -----  \n",
      " 0   accommodates       3671 non-null   int64  \n",
      " 1   bedrooms           3671 non-null   float64\n",
      " 2   bathrooms          3671 non-null   float64\n",
      " 3   beds               3671 non-null   float64\n",
      " 4   price              3671 non-null   float64\n",
      " 5   minimum_nights     3671 non-null   int64  \n",
      " 6   maximum_nights     3671 non-null   int64  \n",
      " 7   number_of_reviews  3671 non-null   int64  \n",
      "dtypes: float64(4), int64(4)\n",
      "memory usage: 229.6 KB\n"
     ]
    }
   ],
   "source": [
    "dc_listings.info()"
   ]
  },
  {
   "cell_type": "code",
   "execution_count": 6,
   "metadata": {},
   "outputs": [
    {
     "data": {
      "text/html": [
       "<div>\n",
       "<style scoped>\n",
       "    .dataframe tbody tr th:only-of-type {\n",
       "        vertical-align: middle;\n",
       "    }\n",
       "\n",
       "    .dataframe tbody tr th {\n",
       "        vertical-align: top;\n",
       "    }\n",
       "\n",
       "    .dataframe thead th {\n",
       "        text-align: right;\n",
       "    }\n",
       "</style>\n",
       "<table border=\"1\" class=\"dataframe\">\n",
       "  <thead>\n",
       "    <tr style=\"text-align: right;\">\n",
       "      <th></th>\n",
       "      <th>accommodates</th>\n",
       "      <th>bedrooms</th>\n",
       "      <th>bathrooms</th>\n",
       "      <th>beds</th>\n",
       "      <th>price</th>\n",
       "      <th>minimum_nights</th>\n",
       "      <th>maximum_nights</th>\n",
       "      <th>number_of_reviews</th>\n",
       "    </tr>\n",
       "  </thead>\n",
       "  <tbody>\n",
       "    <tr>\n",
       "      <th>0</th>\n",
       "      <td>8</td>\n",
       "      <td>2.0</td>\n",
       "      <td>1.0</td>\n",
       "      <td>4.0</td>\n",
       "      <td>130.0</td>\n",
       "      <td>2</td>\n",
       "      <td>30</td>\n",
       "      <td>25</td>\n",
       "    </tr>\n",
       "    <tr>\n",
       "      <th>1</th>\n",
       "      <td>5</td>\n",
       "      <td>0.0</td>\n",
       "      <td>1.0</td>\n",
       "      <td>4.0</td>\n",
       "      <td>110.0</td>\n",
       "      <td>2</td>\n",
       "      <td>400</td>\n",
       "      <td>1</td>\n",
       "    </tr>\n",
       "    <tr>\n",
       "      <th>2</th>\n",
       "      <td>4</td>\n",
       "      <td>1.0</td>\n",
       "      <td>1.0</td>\n",
       "      <td>1.0</td>\n",
       "      <td>105.0</td>\n",
       "      <td>3</td>\n",
       "      <td>365</td>\n",
       "      <td>76</td>\n",
       "    </tr>\n",
       "    <tr>\n",
       "      <th>3</th>\n",
       "      <td>1</td>\n",
       "      <td>1.0</td>\n",
       "      <td>2.5</td>\n",
       "      <td>1.0</td>\n",
       "      <td>32.0</td>\n",
       "      <td>4</td>\n",
       "      <td>365</td>\n",
       "      <td>1</td>\n",
       "    </tr>\n",
       "    <tr>\n",
       "      <th>4</th>\n",
       "      <td>4</td>\n",
       "      <td>1.0</td>\n",
       "      <td>1.0</td>\n",
       "      <td>2.0</td>\n",
       "      <td>89.0</td>\n",
       "      <td>2</td>\n",
       "      <td>1125</td>\n",
       "      <td>18</td>\n",
       "    </tr>\n",
       "  </tbody>\n",
       "</table>\n",
       "</div>"
      ],
      "text/plain": [
       "   accommodates  bedrooms  bathrooms  beds  price  minimum_nights  \\\n",
       "0             8       2.0        1.0   4.0  130.0               2   \n",
       "1             5       0.0        1.0   4.0  110.0               2   \n",
       "2             4       1.0        1.0   1.0  105.0               3   \n",
       "3             1       1.0        2.5   1.0   32.0               4   \n",
       "4             4       1.0        1.0   2.0   89.0               2   \n",
       "\n",
       "   maximum_nights  number_of_reviews  \n",
       "0              30                 25  \n",
       "1             400                  1  \n",
       "2             365                 76  \n",
       "3             365                  1  \n",
       "4            1125                 18  "
      ]
     },
     "execution_count": 6,
     "metadata": {},
     "output_type": "execute_result"
    }
   ],
   "source": [
    "dc_listings.head()"
   ]
  },
  {
   "cell_type": "markdown",
   "metadata": {},
   "source": [
    "### Normalize Columns\n",
    "\n",
    "The `accommodates`, `bedrooms`, `bathrooms`, `beds`, and `minimum_nights` columns hover between 0 and 12 (at least in the first few rows), the values in the maximum_nights and number_of_reviews columns span much larger ranges. For example, the maximum_nights column has values as low as 4 and as high as 1125, in the first few rows itself. If we use these 2 columns as part of a k-nearest neighbors model, these attributes could end up having an outsized effect on the distance calculations, because of the largeness of the values.\n",
    "\n",
    "For example, 2 living spaces could be identical across every attribute but be vastly different just on the maximum_nights column. If one listing had a maximum_nights value of 1825 and the other a maximum_nights value of 4, because of the way Euclidean distance is calculated, these listings would be considered very far apart because of the outsized effect the largeness of the values had on the overall Euclidean distance. To prevent any single column from having too much of an impact on the distance, we can normalize all of the columns to have a mean of 0 and a standard deviation of 1.\n",
    "\n",
    "Normalizing the values in each column to the standard normal distribution (mean of 0, standard deviation of 1) preserves the distribution of the values in each column while aligning the scales. To normalize the values in a column to the standard normal distribution, we need to:\n",
    "\n",
    "The mathematical formula describing the transformation that needs to be applied for all values in a column is given by:\n",
    "\n",
    "$$x=\\frac{x-\\mu}{\\sigma}$$\n",
    "where x is a value in a specific column, μ is the mean of all the values in the column, and σ is the standard deviation of all the values in the column.\n",
    "\n",
    "Below, we will perform this normalization using the pandas `pd.mean()` and `pd.std()` functions. These methods were written with mass column transformation in mind and when we call `mean()` or `std()`, the appropriate column means and column standard deviations are used for each value in the Dataframe. We will also add original `price` column to the new dataframe `normalized_listings` in order to avoid the price column being normalized.."
   ]
  },
  {
   "cell_type": "code",
   "execution_count": 7,
   "metadata": {
    "scrolled": true
   },
   "outputs": [
    {
     "name": "stdout",
     "output_type": "stream",
     "text": [
      "   accommodates  bedrooms  bathrooms      beds  price  minimum_nights  \\\n",
      "0      2.397185  0.939875  -0.439151  1.985752  130.0       -0.065038   \n",
      "1      0.900320 -1.438810  -0.439151  1.985752  110.0       -0.065038   \n",
      "2      0.401366 -0.249467  -0.439151 -0.546858  105.0        0.211298   \n",
      "\n",
      "   maximum_nights  number_of_reviews  \n",
      "0       -0.016603           0.338385  \n",
      "1       -0.016593          -0.482505  \n",
      "2       -0.016594           2.082776  \n"
     ]
    }
   ],
   "source": [
    "normalized_listings = (dc_listings - dc_listings.mean()) / (dc_listings.std())\n",
    "normalized_listings['price'] = dc_listings['price']\n",
    "print(normalized_listings[0:3])\n"
   ]
  },
  {
   "attachments": {
    "image.png": {
     "image/png": "[encoded data removed]"
    }
   },
   "cell_type": "markdown",
   "metadata": {},
   "source": [
    "### Euclidean Distance for Multivariate Cases\n",
    "We will now train a model that uses two attributes `accommodates` and `bathrooms` when determining how similar 2 living spaces are. Let's refer to the Euclidean distance equation again to see what the distance calculation using 2 attributes would look like:\n",
    "$$d = \\sqrt{(q_1-p_1)^2 + (q_2-p_2)^2 + \\cdots + (q_n-p_n)^2}$$\n",
    "Since we're using 2 attributes, the distance calculation would look like:\n",
    "$$d = \\sqrt{(accommodates_1-accommodates_2)^2 + (bathrooms_1-bathrooms_2)^2 }$$\n",
    "To find the distance between 2 living spaces, we need to calculate the squared difference between both accommodates values, the squared difference between both bathrooms values, add them together, and then take the square root of the resulting sum. Here's what the Euclidean distance between the first 2 rows in normalized_listings looks like:\n",
    "![image.png](attachment:image.png)\n",
    "\n",
    "So far, we've been calculating Euclidean distance ourselves by writing the logic for the equation ourselves. We can instead use the `distance.euclidean()` [function](https://docs.scipy.org/doc/scipy-0.14.0/reference/generated/scipy.spatial.distance.euclidean.html) from `scipy.spatial`, which takes in 2 vectors as the parameters and calculates the Euclidean distance between them. The euclidean() function expects:\n",
    "- both of the vectors to be represented using a list-like object (Python list, NumPy array, or pandas Series)\n",
    "- both of the vectors must be 1-dimensional and have the same number of elements\n",
    "\n",
    "```\n",
    "from scipy.spatial import distance\n",
    "first_listing = [-0.596544, -0.439151]\n",
    "second_listing = [-0.596544, 0.412923]\n",
    "dist = distance.euclidean(first_listing, second_listing)\n",
    "```"
   ]
  },
  {
   "cell_type": "markdown",
   "metadata": {},
   "source": [
    "**Practice Exercise**\n",
    "\n",
    "Calculate the Euclidean distance using only the `accommodates` and `bathrooms` features between the first row and fifth row in normalized_listings using the `distance.euclidean()` function.\n",
    "Assign the distance value to `first_fifth_distance` and display using the `print` function."
   ]
  },
  {
   "cell_type": "code",
   "execution_count": 8,
   "metadata": {
    "scrolled": true
   },
   "outputs": [
    {
     "data": {
      "text/plain": [
       "1.9958191063533608"
      ]
     },
     "execution_count": 8,
     "metadata": {},
     "output_type": "execute_result"
    }
   ],
   "source": [
    "from scipy.spatial import distance\n",
    "first = normalized_listings.iloc[0][['accommodates','bathrooms']]\n",
    "fifth = normalized_listings.iloc[4][['accommodates','bathrooms']]\n",
    "first_fifth_distance = distance.euclidean(first, fifth)\n",
    "first_fifth_distance"
   ]
  },
  {
   "cell_type": "markdown",
   "metadata": {},
   "source": [
    "### Scikit Learn\n",
    "So far, we've been writing functions from scratch to train the k-nearest neighbor models. While this is helpful deliberate practice to understand how the mechanics work, we can be more productive and iterate quicker by using the [scikit-learn library](https://scikit-learn.org/stable/), which is the most popular machine learning library in Python. Scikit-learn contains functions for all of the major machine learning algorithms and a simple, unified workflow. Both of these properties allow data scientists to be incredibly productive when training and testing different models on a new dataset.\n",
    "\n",
    "The scikit-learn workflow consists of 4 main steps:\n",
    "\n",
    "- instantiate the specific machine learning model (as an object) we want to use (from the relevant class) \n",
    "- fit the model to the training data\n",
    "- use the model to make predictions\n",
    "- evaluate the accuracy of the predictions\n",
    "\n",
    "Each model in scikit-learn is implemented as a separate class and the first step is to identify the class we want to create an instance of. In our case, we want to use the `KNeighborsRegressor` [class](https://scikit-learn.org/stable/modules/generated/sklearn.neighbors.KNeighborsRegressor.html#sklearn.neighbors.KNeighborsRegressor.fit).Any model that helps us predict numerical values, like listing price in our case, is known as a regression model. The other main class of machine learning models is called classification, where we're trying to predict a label from a fixed set of labels (e.g. blood type or gender). The word regressor from the class name KNeighborsRegressor refers to the regression model class that we just discussed.\n",
    "\n",
    "Scikit-learn uses a similar object-oriented style to Matplotlib and we need to instantiate an empty model first by calling the constructor:"
   ]
  },
  {
   "cell_type": "code",
   "execution_count": 9,
   "metadata": {},
   "outputs": [],
   "source": [
    "# instatinate a model as an object of the class\n",
    "from sklearn.neighbors import KNeighborsRegressor\n",
    "knn = KNeighborsRegressor(algorithm = 'brute')"
   ]
  },
  {
   "cell_type": "markdown",
   "metadata": {},
   "source": [
    "If we refer to the [documentation](https://scikit-learn.org/stable/modules/generated/sklearn.neighbors.KNeighborsRegressor.html#sklearn.neighbors.KNeighborsRegressor), we'll notice that by default:\n",
    "\n",
    "- n_neighbors: the number of neighbors, is set to 5\n",
    "- algorithm: for computing nearest neighbors, is set to auto\n",
    "- p: set to 2, corresponding to Euclidean distance\n",
    "\n",
    "We will set the algorithm parameter to `brute` and leave the `n_neighbors` value as 5, which matches the implementation we are working on. If we leave the algorithm parameter set to the default value of `auto`, scikit-learn will try to use tree-based optimizations to improve performance."
   ]
  },
  {
   "cell_type": "markdown",
   "metadata": {},
   "source": [
    "### Fitting the Model and making Predictions\n",
    "\n",
    "Now, we will fit the model to the data using the `fit` [method](https://scikit-learn.org/stable/modules/generated/sklearn.neighbors.KNeighborsRegressor.html#sklearn.neighbors.KNeighborsRegressor.fit). For all models, the fit method takes in 2 required parameters:\n",
    "- matrix-like object, containing the feature columns we want to use from the training set.\n",
    "- list-like object, containing correct target values.\n",
    "\n",
    "Matrix-like object means that the method is flexible in the input and either a Dataframe or a NumPy 2D array of values is accepted. This means we can select the columns you want to use from the Dataframe and use that as the first parameter to the fit method.\n",
    "\n",
    "All of the following are acceptable list-like objects:\n",
    "\n",
    "- NumPy array\n",
    "- Python list\n",
    "- pandas Series object (e.g. when selecting a column)\n",
    "\n",
    "We can select the target column from the Dataframe, `price` in our case, and use that as the second parameter to the fit method:"
   ]
  },
  {
   "cell_type": "code",
   "execution_count": 10,
   "metadata": {},
   "outputs": [
    {
     "data": {
      "text/plain": [
       "KNeighborsRegressor(algorithm='brute')"
      ]
     },
     "execution_count": 10,
     "metadata": {},
     "output_type": "execute_result"
    }
   ],
   "source": [
    "# fit the training data\n",
    "train_df = normalized_listings.iloc[0:2792]\n",
    "test_df = normalized_listings.iloc[2792:]\n",
    "# Matrix-like object, containing just the 2 columns of interest from training set.\n",
    "train_features = train_df[['accommodates', 'bathrooms']]\n",
    "# List-like object, containing just the target column, `price`.\n",
    "train_target = train_df['price']\n",
    "# Pass everything into the fit method.\n",
    "knn.fit(train_features, train_target)"
   ]
  },
  {
   "cell_type": "markdown",
   "metadata": {},
   "source": [
    "When the `fit()` method is called, scikit-learn stores the training data we specified within the KNearestNeighbors instance (`knn`). If we try passing in data containing missing values or non-numerical values into the `fit` method, scikit-learn will return an error. Scikit-learn contains many such features that help prevent us from making common mistakes.\n",
    "\n",
    "After specifying the training data we want used to make predictions, we can use the `predict` [method](https://scikit-learn.org/stable/modules/generated/sklearn.neighbors.KNeighborsRegressor.html#sklearn.neighbors.KNeighborsRegressor.predict) to make predictions on the test set. The `predict` method has only one required parameter:\n",
    "- matrix-like object, containing the feature columns from the dataset we want to make predictions on:\n",
    "\n",
    "The number of feature columns we use during both training and testing need to match or scikit-learn will return an error.\n",
    "The `predict(`) method returns a NumPy array containing the predicted `price` values for the test set."
   ]
  },
  {
   "cell_type": "code",
   "execution_count": 11,
   "metadata": {},
   "outputs": [],
   "source": [
    "# make predictions on test data\n",
    "predictions = knn.predict(test_df[['accommodates', 'bathrooms']])"
   ]
  },
  {
   "cell_type": "markdown",
   "metadata": {},
   "source": [
    "### Calculating Mean Square Error (MSE)\n",
    "Earlier, we calculated the MSE and RMSE values using the pandas arithmetic operators to compare each predicted value with the actual value from the price column of our test set. Alternatively, we can instead use the `sklearn.metrics.mean_squared_error` [function()](https://scikit-learn.org/stable/modules/generated/sklearn.metrics.mean_squared_error.html#sklearn.metrics.mean_squared_error). \n",
    "The mean_squared_error() function takes in 2 inputs:\n",
    "\n",
    "- list-like object, representing the true values\n",
    "- list-like object, representing the predicted values using the model"
   ]
  },
  {
   "cell_type": "code",
   "execution_count": 12,
   "metadata": {},
   "outputs": [
    {
     "name": "stdout",
     "output_type": "stream",
     "text": [
      "17403.557406143347\n",
      "131.92254320677475\n"
     ]
    }
   ],
   "source": [
    "from sklearn.metrics import mean_squared_error\n",
    "\n",
    "y_true = test_df['price']\n",
    "y_pred = predictions\n",
    "two_features_mse = mean_squared_error(y_true, y_pred) # calculate mse\n",
    "two_features_rmse = two_features_mse **(1/2) # calculate rmse\n",
    "print(two_features_mse)\n",
    "print(two_features_rmse)\n"
   ]
  },
  {
   "cell_type": "markdown",
   "metadata": {},
   "source": [
    "### Model Results for Four Features\n",
    "\n",
    "We will calculate model results for four features i.e. 'accommodates', 'bedrooms', 'bathrooms', 'number_of_reviews' using sklearn with:\n",
    "n_neighbors = 5 (default); and\n",
    "algorithm = 'brute'"
   ]
  },
  {
   "cell_type": "code",
   "execution_count": 13,
   "metadata": {},
   "outputs": [
    {
     "name": "stdout",
     "output_type": "stream",
     "text": [
      "16186.145210466439\n",
      "127.22478221819222\n"
     ]
    }
   ],
   "source": [
    "# For accommodates feature\n",
    "# instatinate a model as an object of the class\n",
    "from sklearn.neighbors import KNeighborsRegressor\n",
    "knn_four = KNeighborsRegressor(algorithm = 'brute')\n",
    "# fit the training data\n",
    "\n",
    "# Matrix-like object, containing just the 4 columns of interest from training set.\n",
    "train_four_features = train_df[['accommodates', 'bedrooms', 'bathrooms', 'number_of_reviews']]\n",
    "# List-like object, containing just the target column, `price`.\n",
    "train_four_target = train_df['price']\n",
    "# Pass everything into the fit method.\n",
    "knn_four.fit(train_four_features, train_four_target)\n",
    "\n",
    "# make predictions on test data\n",
    "four_predictions = knn_four.predict(test_df[['accommodates', 'bedrooms', 'bathrooms', 'number_of_reviews']])\n",
    "# Calculate RMSE\n",
    "from sklearn.metrics import mean_squared_error\n",
    "\n",
    "y_four_true = test_df['price']\n",
    "y_four_pred = four_predictions\n",
    "four_mse = mean_squared_error(y_four_true, y_four_pred) # calculate mse\n",
    "four_rmse = four_mse **(1/2) # calculate rmse\n",
    "print(four_mse)\n",
    "print(four_rmse)"
   ]
  },
  {
   "cell_type": "markdown",
   "metadata": {},
   "source": [
    "# Model Results for all Features\n",
    "We will calculate model results for all features i.e. 'accommodates', 'bedrooms', 'bathrooms', 'beds','number_of_reviews', 'minimum_nights', 'maximum_nights', using sklearn with:\n",
    "n_neighbors = 5 (default); and\n",
    "algorithm = 'brute'"
   ]
  },
  {
   "cell_type": "code",
   "execution_count": 14,
   "metadata": {},
   "outputs": [
    {
     "name": "stdout",
     "output_type": "stream",
     "text": [
      "17762.994084186572\n",
      "133.27788295207338\n"
     ]
    }
   ],
   "source": [
    "# instatinate a model as an object of the class\n",
    "from sklearn.neighbors import KNeighborsRegressor\n",
    "knn_all = KNeighborsRegressor(algorithm = 'brute')\n",
    "# fit the training data\n",
    "\n",
    "# Matrix-like object, containing all columns of interest from training set.\n",
    "train_all_features = train_df[['accommodates', 'bedrooms', 'bathrooms', 'beds','number_of_reviews', 'minimum_nights', 'maximum_nights']]\n",
    "# List-like object, containing just the target column, `price`.\n",
    "train_all_target = train_df['price']\n",
    "# Pass everything into the fit method.\n",
    "knn_all.fit(train_all_features, train_all_target)\n",
    "\n",
    "# make predictions on test data\n",
    "all_predictions = knn_all.predict(test_df[['accommodates', 'bedrooms', 'bathrooms', 'beds','number_of_reviews', 'minimum_nights', 'maximum_nights']])\n",
    "# Calculate RMSE\n",
    "from sklearn.metrics import mean_squared_error\n",
    "\n",
    "y_all_true = test_df['price']\n",
    "y_all_pred = all_predictions\n",
    "all_mse = mean_squared_error(y_all_true, y_all_pred) # calculate mse\n",
    "all_rmse = all_mse **(1/2) # calculate rmse\n",
    "print(all_mse)\n",
    "print(all_rmse)"
   ]
  },
  {
   "cell_type": "code",
   "execution_count": 15,
   "metadata": {},
   "outputs": [
    {
     "name": "stdout",
     "output_type": "stream",
     "text": [
      "17768.937337883955\n",
      "133.30017756133694\n"
     ]
    }
   ],
   "source": [
    "# Alternately, above code can be written as under\n",
    "knn = KNeighborsRegressor(n_neighbors=5, algorithm='brute')\n",
    "\n",
    "features = train_df.columns.tolist()\n",
    "features.remove('price')\n",
    "\n",
    "knn.fit(train_df[features], train_df['price'])\n",
    "all_features_predictions = knn.predict(test_df[features])\n",
    "all_features_mse = mean_squared_error(test_df['price'], all_features_predictions)\n",
    "all_features_rmse = all_features_mse ** (1/2)\n",
    "print(all_features_mse)\n",
    "print(all_features_rmse)"
   ]
  },
  {
   "cell_type": "markdown",
   "metadata": {},
   "source": [
    "### Conclusion\n",
    "\n",
    "Interestingly enough, the RMSE value actually increased to 133.3 when we used all of the features available to us. This means that selecting the right features is important and that using more features doesn't automatically improve prediction accuracy. We should re-phrase the lever we mentioned earlier from:\n",
    "\n",
    "- increase the number of attributes the model uses to calculate similarity when ranking the closest neighbors\n",
    "to:\n",
    "\n",
    "- select the relevant attributes the model uses to calculate similarity when ranking the closest neighbors\n",
    "\n",
    "The process of selecting features to use in a model is known as **feature selection**.\n",
    "\n",
    "\n",
    "#### Note: Rerunning the Kernel in this notebook will change the training and test datsets due to the first code cell which randomizes the data. The feature is deliberately kept in the notebook, so as to see the effect of changing the datasets on knn models."
   ]
  }
 ],
 "metadata": {
  "kernelspec": {
   "display_name": "Python 3",
   "language": "python",
   "name": "python3"
  },
  "language_info": {
   "codemirror_mode": {
    "name": "ipython",
    "version": 3
   },
   "file_extension": ".py",
   "mimetype": "text/x-python",
   "name": "python",
   "nbconvert_exporter": "python",
   "pygments_lexer": "ipython3",
   "version": "3.8.3"
  }
 },
 "nbformat": 4,
 "nbformat_minor": 4
}
