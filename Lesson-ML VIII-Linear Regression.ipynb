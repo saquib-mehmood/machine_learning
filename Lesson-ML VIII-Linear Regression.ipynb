{
 "cells": [
  {
   "cell_type": "markdown",
   "metadata": {},
   "source": [
    "# Lesson - Machine Learning VII:Linear Regression for Machine Learning\n",
    "\n",
    "In this lesson, we will explore the techniques associated with the linear regression algorithm in machine learning.\n",
    "We'll use the dataset on sold houses in Ames, Iowa. The dataset and its explanation can be found [here](https://www.tandfonline.com/doi/abs/10.1080/10691898.2011.11889627) in this [article](https://s3.amazonaws.com/dq-content/307/data_description.txt). Each row in the dataset describes the properties of a single house as well as the amount it was sold for. In this course, we'll build models that predict the final sale price from its other attributes. Specifically, we'll explore the following questions:\n",
    "\n",
    "- Which properties of a house most affect the final sale price?\n",
    "- How effectively can we predict the sale price from just its properties?\n"
   ]
  },
  {
   "cell_type": "markdown",
   "metadata": {},
   "source": [
    "------\n",
    "## Sec-1 - The Linear Regression Model"
   ]
  },
  {
   "cell_type": "code",
   "execution_count": 1,
   "metadata": {},
   "outputs": [],
   "source": [
    "import pandas as pd\n",
    "import numpy as np\n",
    "import matplotlib.pyplot as plt\n",
    "import seaborn as sns\n",
    "%matplotlib inline\n",
    "# Setting pandas display options for large data\n",
    "pd.options.display.max_rows = 200\n",
    "pd.options.display.max_columns = 150"
   ]
  },
  {
   "cell_type": "code",
   "execution_count": 2,
   "metadata": {
    "scrolled": true
   },
   "outputs": [
    {
     "name": "stdout",
     "output_type": "stream",
     "text": [
      "<class 'pandas.core.frame.DataFrame'>\n",
      "RangeIndex: 2930 entries, 0 to 2929\n",
      "Data columns (total 82 columns):\n",
      " #   Column           Non-Null Count  Dtype  \n",
      "---  ------           --------------  -----  \n",
      " 0   Order            2930 non-null   int64  \n",
      " 1   PID              2930 non-null   int64  \n",
      " 2   MS SubClass      2930 non-null   int64  \n",
      " 3   MS Zoning        2930 non-null   object \n",
      " 4   Lot Frontage     2440 non-null   float64\n",
      " 5   Lot Area         2930 non-null   int64  \n",
      " 6   Street           2930 non-null   object \n",
      " 7   Alley            198 non-null    object \n",
      " 8   Lot Shape        2930 non-null   object \n",
      " 9   Land Contour     2930 non-null   object \n",
      " 10  Utilities        2930 non-null   object \n",
      " 11  Lot Config       2930 non-null   object \n",
      " 12  Land Slope       2930 non-null   object \n",
      " 13  Neighborhood     2930 non-null   object \n",
      " 14  Condition 1      2930 non-null   object \n",
      " 15  Condition 2      2930 non-null   object \n",
      " 16  Bldg Type        2930 non-null   object \n",
      " 17  House Style      2930 non-null   object \n",
      " 18  Overall Qual     2930 non-null   int64  \n",
      " 19  Overall Cond     2930 non-null   int64  \n",
      " 20  Year Built       2930 non-null   int64  \n",
      " 21  Year Remod/Add   2930 non-null   int64  \n",
      " 22  Roof Style       2930 non-null   object \n",
      " 23  Roof Matl        2930 non-null   object \n",
      " 24  Exterior 1st     2930 non-null   object \n",
      " 25  Exterior 2nd     2930 non-null   object \n",
      " 26  Mas Vnr Type     2907 non-null   object \n",
      " 27  Mas Vnr Area     2907 non-null   float64\n",
      " 28  Exter Qual       2930 non-null   object \n",
      " 29  Exter Cond       2930 non-null   object \n",
      " 30  Foundation       2930 non-null   object \n",
      " 31  Bsmt Qual        2850 non-null   object \n",
      " 32  Bsmt Cond        2850 non-null   object \n",
      " 33  Bsmt Exposure    2847 non-null   object \n",
      " 34  BsmtFin Type 1   2850 non-null   object \n",
      " 35  BsmtFin SF 1     2929 non-null   float64\n",
      " 36  BsmtFin Type 2   2849 non-null   object \n",
      " 37  BsmtFin SF 2     2929 non-null   float64\n",
      " 38  Bsmt Unf SF      2929 non-null   float64\n",
      " 39  Total Bsmt SF    2929 non-null   float64\n",
      " 40  Heating          2930 non-null   object \n",
      " 41  Heating QC       2930 non-null   object \n",
      " 42  Central Air      2930 non-null   object \n",
      " 43  Electrical       2929 non-null   object \n",
      " 44  1st Flr SF       2930 non-null   int64  \n",
      " 45  2nd Flr SF       2930 non-null   int64  \n",
      " 46  Low Qual Fin SF  2930 non-null   int64  \n",
      " 47  Gr Liv Area      2930 non-null   int64  \n",
      " 48  Bsmt Full Bath   2928 non-null   float64\n",
      " 49  Bsmt Half Bath   2928 non-null   float64\n",
      " 50  Full Bath        2930 non-null   int64  \n",
      " 51  Half Bath        2930 non-null   int64  \n",
      " 52  Bedroom AbvGr    2930 non-null   int64  \n",
      " 53  Kitchen AbvGr    2930 non-null   int64  \n",
      " 54  Kitchen Qual     2930 non-null   object \n",
      " 55  TotRms AbvGrd    2930 non-null   int64  \n",
      " 56  Functional       2930 non-null   object \n",
      " 57  Fireplaces       2930 non-null   int64  \n",
      " 58  Fireplace Qu     1508 non-null   object \n",
      " 59  Garage Type      2773 non-null   object \n",
      " 60  Garage Yr Blt    2771 non-null   float64\n",
      " 61  Garage Finish    2771 non-null   object \n",
      " 62  Garage Cars      2929 non-null   float64\n",
      " 63  Garage Area      2929 non-null   float64\n",
      " 64  Garage Qual      2771 non-null   object \n",
      " 65  Garage Cond      2771 non-null   object \n",
      " 66  Paved Drive      2930 non-null   object \n",
      " 67  Wood Deck SF     2930 non-null   int64  \n",
      " 68  Open Porch SF    2930 non-null   int64  \n",
      " 69  Enclosed Porch   2930 non-null   int64  \n",
      " 70  3Ssn Porch       2930 non-null   int64  \n",
      " 71  Screen Porch     2930 non-null   int64  \n",
      " 72  Pool Area        2930 non-null   int64  \n",
      " 73  Pool QC          13 non-null     object \n",
      " 74  Fence            572 non-null    object \n",
      " 75  Misc Feature     106 non-null    object \n",
      " 76  Misc Val         2930 non-null   int64  \n",
      " 77  Mo Sold          2930 non-null   int64  \n",
      " 78  Yr Sold          2930 non-null   int64  \n",
      " 79  Sale Type        2930 non-null   object \n",
      " 80  Sale Condition   2930 non-null   object \n",
      " 81  SalePrice        2930 non-null   int64  \n",
      "dtypes: float64(11), int64(28), object(43)\n",
      "memory usage: 1.8+ MB\n"
     ]
    }
   ],
   "source": [
    "data = pd.read_csv('AmesHousing.txt', delimiter = '\\t')\n",
    "data.info()"
   ]
  },
  {
   "cell_type": "code",
   "execution_count": 3,
   "metadata": {
    "scrolled": true
   },
   "outputs": [
    {
     "name": "stdout",
     "output_type": "stream",
     "text": [
      "(1460, 82)\n",
      "(1470, 82)\n"
     ]
    }
   ],
   "source": [
    "train = data.head(1460)\n",
    "test = data.tail(len(data) - len(train))\n",
    "print(train.shape)\n",
    "print(test.shape)"
   ]
  },
  {
   "attachments": {
    "image.png": {
     "image/png": "[encoded data removed]"
    }
   },
   "cell_type": "markdown",
   "metadata": {},
   "source": [
    "### Simple (Univariate) Linear Regression\n",
    "\n",
    " The following equation is the general form of the simple linear regression model.\n",
    " $$\\hat{y} = a_1x_1 + a_0$$\n",
    " \n",
    " y represents the target column while x1 represents the feature column we choose to use in our model. These values are independent of the dataset. On the other hand, a0 and a1 represent the parameter values that are specific to the dataset. The goal of simple linear regression is to find the optimal parameter values that best describe the relationship between the feature column and the target column. The following diagram shows different simple linear regression models depending on the data:\n",
    " \n",
    " ![image.png](attachment:image.png)\n",
    " \n",
    "The first step is to select the feature, x1, we want to use in our model. Once we select this feature, we can use scikit-learn to determine the optimal parameter values a1 and a0 based on the training data. Because one of the assumptions of linear regression is that the relationship between the feature(s) and the target column is linear, we want to pick a feature that seems like it has the strongest correlation with the final sale price.\n",
    "\n",
    "Below, we will analyze three features by plotting them against `SalePrice` to determine correlation."
   ]
  },
  {
   "cell_type": "code",
   "execution_count": 4,
   "metadata": {
    "scrolled": true
   },
   "outputs": [
    {
     "data": {
      "image/png": "[encoded data removed]",
      "text/plain": [
       "<Figure size 504x1080 with 3 Axes>"
      ]
     },
     "metadata": {
      "needs_background": "light"
     },
     "output_type": "display_data"
    }
   ],
   "source": [
    "fig = plt.figure(figsize=(7, 15))\n",
    "plt.style.use('fivethirtyeight')\n",
    "ax1 = fig.add_subplot(3,1,1)\n",
    "ax1.scatter(x = train['Garage Area'], y= train[\"SalePrice\"])\n",
    "ax2 = fig.add_subplot(3,1,2)\n",
    "ax2.scatter(x = train['Gr Liv Area'], y= train[\"SalePrice\"])\n",
    "ax3 = fig.add_subplot(3,1,3)\n",
    "ax3.scatter(x = train['Overall Cond'], y= train[\"SalePrice\"])\n",
    "plt.show()"
   ]
  },
  {
   "cell_type": "markdown",
   "metadata": {},
   "source": [
    "From above plots we can decipher that we can tell that the `Gr Liv Area` feature correlates the most with the SalePrice column. We can confirm this by calculating the correlation between pairs of these columns using the `pandas.DataFrame.corr()`[method](https://pandas.pydata.org/pandas-docs/stable/reference/api/pandas.DataFrame.corr.html):"
   ]
  },
  {
   "cell_type": "code",
   "execution_count": 5,
   "metadata": {
    "scrolled": true
   },
   "outputs": [
    {
     "name": "stdout",
     "output_type": "stream",
     "text": [
      "              Garage Area  Gr Liv Area  Overall Cond  SalePrice\n",
      "Garage Area      1.000000     0.465366     -0.132401   0.662397\n",
      "Gr Liv Area      0.465366     1.000000     -0.133710   0.698990\n",
      "Overall Cond    -0.132401    -0.133710      1.000000  -0.099395\n",
      "SalePrice        0.662397     0.698990     -0.099395   1.000000\n"
     ]
    }
   ],
   "source": [
    "print(train[['Garage Area', 'Gr Liv Area', 'Overall Cond', 'SalePrice']].corr())"
   ]
  },
  {
   "attachments": {
    "image.png": {
     "image/png": "[encoded data removed]"
    }
   },
   "cell_type": "markdown",
   "metadata": {},
   "source": [
    "### Model Fitting\n",
    "So we can update our model as under (replacing x1 with `Gr Liv Area`:\n",
    "$$\\hat{y} = a_1*Gr \\ Liv \\ Area + a_0$$    \n",
    "\n",
    "**Least Squares**\n",
    "To find the optimal parameters for a linear regression model, we want to optimize the model's residual sum of squares (or RSS). Residual (often referred to as errors) describes the difference between the predicted values for the target column (y) and the true values (y):\n",
    "![image.png](attachment:image.png)\n",
    "\n",
    "We want this difference to be as small as possible. Calculating RSS involves summing the squared errors:\n",
    "$$RSS = (y_1 - \\hat{y_1})^2 +  (y_2 - \\hat{y_2})^2 + ... + (y_n - \\hat{y_n})^2$$\n",
    "\n",
    "We can shorten this to:\n",
    "$$RSS = \\sum_{i=1}^{n} (y_i - \\hat{y_i})^2$$\n",
    "\n",
    "RSS seems very similar to the calculation for MSE (mean squared error), we used earlier. Here's the formula for MSE, adapted for the linear equation:\n",
    "\n",
    "$$MSE = \\frac{1}{n} \\sum_{i=1}^{n} (y_i - \\hat{y_i})^2$$"
   ]
  },
  {
   "attachments": {
    "image.png": {
     "image/png": "[encoded data removed]"
    }
   },
   "cell_type": "markdown",
   "metadata": {},
   "source": [
    "Earlier we used the MSE on the test set (while working on k-nearest neighbors), it's clear that the goal of minimizing RSS on the training set when training is a good idea.\n",
    "![image.png](attachment:image.png)"
   ]
  },
  {
   "cell_type": "markdown",
   "metadata": {},
   "source": [
    "### Using Scikit Learn for Training and Prediction\n",
    "\n",
    "We will now use scikit-learn to find the optimal parameter values for our model. The scikit-learn library is designed to easily swap and try different models. We will work with the [`sklearn.linear_model.LinearRegression`](https://scikit-learn.org/stable/modules/generated/sklearn.linear_model.LinearRegression.html) class. `LinearRegression` fits a linear model with coefficients `w = (w1, …, wp)` to minimize the residual sum of squares between the observed targets in the dataset, and the targets predicted by the linear approximation.The LinearRegression class also has it's own `fit()` method. Specific to this model, however, are the coef_ and intercept_ attributes, which return a1 (a1 to an if it were a multivariate regression model) and a0 accordingly.\n",
    "\n",
    "Below, we will:\n",
    "- Import and instantiate a linear regression model.\n",
    "- Fit a linear regression model that uses the best feature to predict the price using the default arguments.\n",
    "- Display the coefficient and intercept of the fitted model using the `coef_` and `intercept_` attributes.\n",
    "- Assign `a1` to `a1` and `a0` to `a0`."
   ]
  },
  {
   "cell_type": "code",
   "execution_count": 6,
   "metadata": {},
   "outputs": [
    {
     "name": "stdout",
     "output_type": "stream",
     "text": [
      "5366.821710056043\n",
      "[116.86624683]\n"
     ]
    }
   ],
   "source": [
    "from sklearn.linear_model import LinearRegression\n",
    "lr = LinearRegression()\n",
    "lr.fit(train[['Gr Liv Area']], train['SalePrice'])\n",
    "a0 = lr.intercept_\n",
    "a1 = lr.coef_\n",
    "print(a0)\n",
    "print(a1)"
   ]
  },
  {
   "cell_type": "markdown",
   "metadata": {},
   "source": [
    "### Predictions\n",
    "Above, we have fit a univariate linear regression model between the Gr Liv Area and SalePrice columns. We then displayed the single coefficient and the residual value. If we refer back to the format of our linear regression model, the fitted model can be represented as:\n",
    "$$\\hat{y} = 116.86624683x_1 + 5366.82171006$$\n",
    "\n",
    "One way to interpret this model is \"for every 1 square foot increase in above ground living area, we can expect the home's value to increase by approximately 116.87 dollars\".\n",
    "\n",
    "We can now use the `predict()` method to predict the labels using the training data and compare them with the actual labels. To quantify the fit, we can use mean squared error. We will also perform simple validation by making predictions on the test set and calculate the MSE value for those predictions as well.\n",
    "\n",
    "Below, we will:\n",
    "\n",
    "- Use the fitted model to make predictions on both the training and test sets.\n",
    "- Calculate the RMSE value for the predictions on the training set and assign to `train_rmse`.\n",
    "- Calculate the RMSE value for the predictions on the test set and assign to `test_rmse`.\n",
    "\n"
   ]
  },
  {
   "cell_type": "code",
   "execution_count": 7,
   "metadata": {},
   "outputs": [
    {
     "name": "stdout",
     "output_type": "stream",
     "text": [
      "56034.362001412796\n",
      "57088.25161263909\n"
     ]
    }
   ],
   "source": [
    "from sklearn.linear_model import LinearRegression\n",
    "lr = LinearRegression()\n",
    "lr.fit(train[['Gr Liv Area']], train['SalePrice'])\n",
    "train_predictions = lr.predict(train[['Gr Liv Area']])\n",
    "test_predictions = lr.predict(test[['Gr Liv Area']])\n",
    "\n",
    "from sklearn.metrics import mean_squared_error\n",
    "train_mse = mean_squared_error(train_predictions, train['SalePrice'])\n",
    "test_mse = mean_squared_error(test_predictions, test['SalePrice'])\n",
    "\n",
    "train_rmse = np.sqrt(train_mse)\n",
    "test_rmse = np.sqrt(test_mse)\n",
    "\n",
    "print(train_rmse)\n",
    "print(test_rmse)"
   ]
  },
  {
   "cell_type": "markdown",
   "metadata": {},
   "source": [
    "### Multivariate Linear Regression\n",
    "\n",
    "We can extend this logic to the multivariate case (often called multiple linear regression). A multiple linear regression model allows us to capture the relationship between multiple feature columns and the target column. Here's what the formula looks like:\n",
    "$$\\hat{y} = a_0 + a_1x_1 + a_2x_2 + ... + a_nx_n$$\n",
    "\n",
    "When using multiple features, the main challenge is selecting relevant features. For now, We will train a model using the following columns from the dataset to see how train and test RMSE values are improved.\n",
    "`Overall Cond`\n",
    "`Gr Liv Area`\n",
    "\n",
    "Below, we will:\n",
    "- Train a linear regression model using the columns in cols.\n",
    "- Use the fitted model to make predictions on both the training and test dataset.\n",
    "- Calculate the RMSE value for the predictions on the training set and assign to `train_rmse_2`.\n",
    "- Calculate the RMSE value for the predictions on the test set and assign to `test_rmse_2`."
   ]
  },
  {
   "cell_type": "code",
   "execution_count": 8,
   "metadata": {},
   "outputs": [
    {
     "name": "stdout",
     "output_type": "stream",
     "text": [
      "56032.398015258674\n",
      "57066.90779448559\n"
     ]
    }
   ],
   "source": [
    "cols = ['Overall Cond', 'Gr Liv Area']\n",
    "from sklearn.linear_model import LinearRegression\n",
    "lr = LinearRegression()\n",
    "lr.fit(train[cols], train['SalePrice'])\n",
    "train_predictions = lr.predict(train[cols])\n",
    "test_predictions = lr.predict(test[cols])\n",
    "\n",
    "from sklearn.metrics import mean_squared_error\n",
    "train_mse_2 = mean_squared_error(train_predictions, train['SalePrice'])\n",
    "test_mse_2 = mean_squared_error(test_predictions, test['SalePrice'])\n",
    "\n",
    "train_rmse_2 = np.sqrt(train_mse_2)\n",
    "test_rmse_2 = np.sqrt(test_mse_2)\n",
    "\n",
    "print(train_rmse_2)\n",
    "print(test_rmse_2)"
   ]
  },
  {
   "cell_type": "markdown",
   "metadata": {},
   "source": [
    "--------\n",
    "## Sec-2 - Feature Selection\n",
    "\n",
    "In the machine learning workflow, once we've selected the model we want to use, selecting the appropriate features for that model is the next important step. In this section, we'll explore how to use correlation between features and the target column, correlation between features, and variance of features to select features. We'll specifically focus on selecting from feature columns that don't have any missing values or don't need to be transformed to be useful (e.g. columns like Year Built and Year Remod/Add).\n",
    "\n",
    "Below, we will:\n",
    "\n",
    "- Using pandas `select_dtypes` method, select the integer and float columns from `train` and assign them to the variable `numerical_train`.\n",
    "- Drop the following columns from numerical_train:\n",
    "`PID` (place ID isn't useful for modeling)\n",
    "`Year Built`\n",
    "`Year Remod/Add`\n",
    "`Garage Yr Blt`\n",
    "`Mo Sold`\n",
    "`Yr Sold`\n",
    "- Calculate the number of missing values from each column in numerical_train. Create a Series object where the index is made up of column names and the associated values are the number of missing values:\n",
    "`Order `               0\n",
    "`PID`                  0\n",
    "`MS SubClass`          0\n",
    "`MS Zoning `           0\n",
    "...\n",
    "- Assign this Series object to null_series. Select the subset of `null_series` to keep only the columns with no missing values, and assign the resulting Series object to `full_cols_series`.\n",
    "- Display `full_cols_series` using the print() function."
   ]
  },
  {
   "cell_type": "code",
   "execution_count": 9,
   "metadata": {
    "scrolled": true
   },
   "outputs": [
    {
     "name": "stdout",
     "output_type": "stream",
     "text": [
      "Order              0\n",
      "MS SubClass        0\n",
      "Lot Area           0\n",
      "Overall Qual       0\n",
      "Overall Cond       0\n",
      "1st Flr SF         0\n",
      "2nd Flr SF         0\n",
      "Low Qual Fin SF    0\n",
      "Gr Liv Area        0\n",
      "Full Bath          0\n",
      "Half Bath          0\n",
      "Bedroom AbvGr      0\n",
      "Kitchen AbvGr      0\n",
      "TotRms AbvGrd      0\n",
      "Fireplaces         0\n",
      "Garage Cars        0\n",
      "Garage Area        0\n",
      "Wood Deck SF       0\n",
      "Open Porch SF      0\n",
      "Enclosed Porch     0\n",
      "3Ssn Porch         0\n",
      "Screen Porch       0\n",
      "Pool Area          0\n",
      "Misc Val           0\n",
      "SalePrice          0\n",
      "dtype: int64\n"
     ]
    }
   ],
   "source": [
    "numerical_train = train.select_dtypes(include =['int64', 'float64'])\n",
    "numerical_train = numerical_train.drop(['PID', 'Year Built', 'Year Remod/Add', 'Garage Yr Blt', 'Mo Sold', 'Yr Sold'], axis = 1)\n",
    "null_series = numerical_train.isnull().sum()\n",
    "full_cols_series = null_series[null_series == 0]\n",
    "print(full_cols_series)"
   ]
  },
  {
   "cell_type": "markdown",
   "metadata": {},
   "source": [
    "### Correlating Features and Target Columns\n",
    "\n",
    "Earlier, we focused on 4 features in particular and used the pandas.DataFrame.corr() method to return the correlation coefficients between each pair of columns. This means that the correlation matrix for 4 columns results in 16 correlation values:"
   ]
  },
  {
   "cell_type": "code",
   "execution_count": 10,
   "metadata": {
    "scrolled": true
   },
   "outputs": [
    {
     "name": "stdout",
     "output_type": "stream",
     "text": [
      "              Garage Area  Gr Liv Area  Overall Cond  SalePrice\n",
      "Garage Area      1.000000     0.465366     -0.132401   0.662397\n",
      "Gr Liv Area      0.465366     1.000000     -0.133710   0.698990\n",
      "Overall Cond    -0.132401    -0.133710      1.000000  -0.099395\n",
      "SalePrice        0.662397     0.698990     -0.099395   1.000000\n"
     ]
    }
   ],
   "source": [
    "print(train[['Garage Area', 'Gr Liv Area', 'Overall Cond', 'SalePrice']].corr())"
   ]
  },
  {
   "cell_type": "markdown",
   "metadata": {},
   "source": [
    "The subset of features we want to focus on, full_cols_series, contains 25 columns:"
   ]
  },
  {
   "cell_type": "code",
   "execution_count": 11,
   "metadata": {},
   "outputs": [
    {
     "data": {
      "text/plain": [
       "25"
      ]
     },
     "execution_count": 11,
     "metadata": {},
     "output_type": "execute_result"
    }
   ],
   "source": [
    "train_subset = train[full_cols_series.index]\n",
    "train_subset.shape[1]"
   ]
  },
  {
   "cell_type": "markdown",
   "metadata": {},
   "source": [
    "The resulting correlation matrix will contain 25 * 25 or 625 correlation values. Comparing and contrasting this many values is incredibly difficult. We will instead focus on just how the feature columns correlate with the target column (SalePrice) instead.\n",
    "\n",
    "Below, we will:\n",
    "\n",
    "- Compute the pairwise correlation coefficients between all of the columns in `train_subset`.\n",
    "- Select just the `SalePrice` column from the resulting data frame, compute the absolute value of each term, sort the resulting Series by the correlation values, and assign to `sorted_corrs`."
   ]
  },
  {
   "cell_type": "code",
   "execution_count": 12,
   "metadata": {
    "scrolled": true
   },
   "outputs": [
    {
     "name": "stdout",
     "output_type": "stream",
     "text": [
      "Misc Val           0.009903\n",
      "3Ssn Porch         0.038699\n",
      "Low Qual Fin SF    0.060352\n",
      "Order              0.068181\n",
      "MS SubClass        0.088504\n",
      "Overall Cond       0.099395\n",
      "Screen Porch       0.100121\n",
      "Bedroom AbvGr      0.106941\n",
      "Kitchen AbvGr      0.130843\n",
      "Pool Area          0.145474\n",
      "Enclosed Porch     0.165873\n",
      "2nd Flr SF         0.202352\n",
      "Half Bath          0.272870\n",
      "Lot Area           0.274730\n",
      "Wood Deck SF       0.319104\n",
      "Open Porch SF      0.344383\n",
      "TotRms AbvGrd      0.483701\n",
      "Fireplaces         0.485683\n",
      "Full Bath          0.518194\n",
      "1st Flr SF         0.657119\n",
      "Garage Area        0.662397\n",
      "Garage Cars        0.663485\n",
      "Gr Liv Area        0.698990\n",
      "Overall Qual       0.804562\n",
      "SalePrice          1.000000\n",
      "Name: SalePrice, dtype: float64\n"
     ]
    }
   ],
   "source": [
    "sorted_corrs = train_subset.corr()['SalePrice'].abs().sort_values()\n",
    "print(sorted_corrs)"
   ]
  },
  {
   "cell_type": "markdown",
   "metadata": {},
   "source": [
    "### Correlation Matrix Heatmap\n",
    "\n",
    "We now have a list of candidate features to use in our model, sorted by how strongly they're correlated with the `SalePrice` column. For now, let's keep only the features that have a correlation of 0.3 or higher. This cutoff is a bit arbitrary and, in general, it's a good idea to experiment with this cutoff. For example, you can train and test models using different cutoffs and see where your model stops improving. \n",
    "\n",
    "The next thing we need to look for is for potential **collinearity** between some of these feature columns. Collinearity is when 2 feature columns are highly correlated and stand the risk of duplicating information. If we have 2 features that convey the same information using 2 different measures or metrics, we don't need to keep both.\n",
    "\n",
    "While we can check for collinearity between 2 columns using the correlation matrix, we run the risk of information overload. We can instead generate a [correlation matrix heatmap](https://seaborn.pydata.org/examples/heatmap_annotation.html) using Seaborn to visually compare the correlations and look for problematic pairwise feature correlations. Because we're looking for outlier values in the heatmap, this visual representation is easier.\n",
    "\n",
    "To generate a correlation matrix heatmap, we need to pass in the data frame containing the correlation matrix as a data frame into the seaborn.heatmap() function.\n",
    "\n",
    "Below, we will:\n",
    "\n",
    "- Select only the columns in `sorted_corrs` with a correlation above 0.3 and assign to `strong_corrs`.\n",
    "- Filter `train_subset` using the indexes of `strong_corr`s and store the correlations to `corrmat`.\n",
    "- Use the `seaborn.heatmap()` function to generate a correlation matrix heatmap for the columns in `strong_corrs`."
   ]
  },
  {
   "cell_type": "code",
   "execution_count": 13,
   "metadata": {
    "scrolled": true
   },
   "outputs": [
    {
     "data": {
      "text/plain": [
       "<function matplotlib.pyplot.show(*args, **kw)>"
      ]
     },
     "execution_count": 13,
     "metadata": {},
     "output_type": "execute_result"
    },
    {
     "data": {
      "image/png": "[encoded data removed]",
      "text/plain": [
       "<Figure size 576x432 with 2 Axes>"
      ]
     },
     "metadata": {},
     "output_type": "display_data"
    }
   ],
   "source": [
    "fig = plt.figure(figsize=(8, 6))\n",
    "plt.style.use('fivethirtyeight')\n",
    "strong_corrs = sorted_corrs[sorted_corrs > 0.3]\n",
    "corrmat = train_subset[strong_corrs.index].corr()\n",
    "sns.heatmap(corrmat, cmap=\"YlGnBu\")\n",
    "plt.show"
   ]
  },
  {
   "cell_type": "markdown",
   "metadata": {},
   "source": [
    "### Train and Test Model\n",
    "Based on the correlation matrix heatmap, we can tell that the following pairs of columns are strongly correlated:\n",
    "\n",
    "`Gr Liv Area` and `TotRms AbvGrd`\n",
    "`Garage Area` and `Garage Cars`\n",
    "\n",
    "If we read the descriptions of these columns from the data documentation, we can tell that each pair of columns reflects very similar information. Because Gr Liv Area and Garage Area are continuous variables that capture more nuance, we will drop the TotRms AbvGrd and Garage Cars. After that, we will confirm that the test set contains no missing values for these columns.\n",
    "\n",
    "Below, we will:\n",
    "\n",
    "- Filter the test data frame so it only contains the columns from `final_corr_cols.index`. Then, drop the row containing missing values and assign the result to `clean_test`\n",
    "- Build a linear regression model using the features in features.\n",
    "- Calculate the RMSE on the test and train sets.\n",
    "- Assign the train RMSE to train_rmse and the test RMSE to test_rmse."
   ]
  },
  {
   "cell_type": "code",
   "execution_count": 14,
   "metadata": {
    "scrolled": true
   },
   "outputs": [
    {
     "name": "stdout",
     "output_type": "stream",
     "text": [
      "<class 'pandas.core.frame.DataFrame'>\n",
      "RangeIndex: 1470 entries, 1460 to 2929\n",
      "Data columns (total 9 columns):\n",
      " #   Column         Non-Null Count  Dtype  \n",
      "---  ------         --------------  -----  \n",
      " 0   Wood Deck SF   1470 non-null   int64  \n",
      " 1   Open Porch SF  1470 non-null   int64  \n",
      " 2   Fireplaces     1470 non-null   int64  \n",
      " 3   Full Bath      1470 non-null   int64  \n",
      " 4   1st Flr SF     1470 non-null   int64  \n",
      " 5   Garage Area    1469 non-null   float64\n",
      " 6   Gr Liv Area    1470 non-null   int64  \n",
      " 7   Overall Qual   1470 non-null   int64  \n",
      " 8   SalePrice      1470 non-null   int64  \n",
      "dtypes: float64(1), int64(8)\n",
      "memory usage: 103.5 KB\n"
     ]
    }
   ],
   "source": [
    "from sklearn.linear_model import LinearRegression\n",
    "from sklearn.metrics import mean_squared_error\n",
    "\n",
    "final_corr_cols = strong_corrs.drop(['Garage Cars', 'TotRms AbvGrd'])\n",
    "test = test[final_corr_cols.index]\n",
    "test.info()                                  "
   ]
  },
  {
   "cell_type": "code",
   "execution_count": 15,
   "metadata": {
    "scrolled": true
   },
   "outputs": [
    {
     "name": "stdout",
     "output_type": "stream",
     "text": [
      "<class 'pandas.core.frame.DataFrame'>\n",
      "Int64Index: 1469 entries, 1460 to 2929\n",
      "Data columns (total 9 columns):\n",
      " #   Column         Non-Null Count  Dtype  \n",
      "---  ------         --------------  -----  \n",
      " 0   Wood Deck SF   1469 non-null   int64  \n",
      " 1   Open Porch SF  1469 non-null   int64  \n",
      " 2   Fireplaces     1469 non-null   int64  \n",
      " 3   Full Bath      1469 non-null   int64  \n",
      " 4   1st Flr SF     1469 non-null   int64  \n",
      " 5   Garage Area    1469 non-null   float64\n",
      " 6   Gr Liv Area    1469 non-null   int64  \n",
      " 7   Overall Qual   1469 non-null   int64  \n",
      " 8   SalePrice      1469 non-null   int64  \n",
      "dtypes: float64(1), int64(8)\n",
      "memory usage: 114.8 KB\n"
     ]
    }
   ],
   "source": [
    "clean_test = test.dropna()\n",
    "clean_test.info()"
   ]
  },
  {
   "cell_type": "code",
   "execution_count": 16,
   "metadata": {},
   "outputs": [
    {
     "name": "stdout",
     "output_type": "stream",
     "text": [
      "34173.97629185851\n",
      "41032.026120197705\n"
     ]
    }
   ],
   "source": [
    "lr = LinearRegression()\n",
    "features = final_corr_cols.drop(['SalePrice']).index\n",
    "target = 'SalePrice'\n",
    "lr.fit(train[features], train[target])\n",
    "train_predictions = lr.predict(train[features])\n",
    "test_predictions = lr.predict(clean_test[features])\n",
    "\n",
    "train_mse = mean_squared_error(train_predictions, train[target])\n",
    "test_mse = mean_squared_error(test_predictions, clean_test[target])\n",
    "\n",
    "train_rmse = np.sqrt(train_mse)\n",
    "test_rmse = np.sqrt(test_mse)\n",
    "\n",
    "print(train_rmse)\n",
    "print(test_rmse)"
   ]
  },
  {
   "cell_type": "markdown",
   "metadata": {},
   "source": [
    "### Rescaling and Removing Features with Low Variance\n",
    "When the values in a feature column have low variance, they don't meaningfully contribute to the model's predictive capability. On the extreme end, let's imagine a column with a variance of 0. This would mean that all of the values in that column were exactly the same. This means that the column isn't informative and isn't going to help the model make better predictions.\n",
    "\n",
    "To make apples to apples comparisons between columns, we need to rescale all of the columns to vary between 0 and 1. This is known as min-max scaling or as rescaling. Here's the formula for rescaling:\n",
    "$$\\dfrac{x - \\min(x)} {\\max(x) - \\min(x)}$$\n",
    "\n",
    "Where:\n",
    "\n",
    "x is an individual value\n",
    "min(x) is the minimum value for the column x belongs to\n",
    "max(x) is the maximum value for the column x belongs to\n",
    "\n",
    "Below, we will:\n",
    "\n",
    "- Select the columns in features from the train data frame. Rescale each of the columns so the values range from 0 to 1, by using train$[features]$ instead of x in the formula above. Assign the result to `unit_train`.\n",
    "- Calculate and display the column minimum and maximum values of `unit_train` to ensure that all values range from 0 to 1.\n"
   ]
  },
  {
   "cell_type": "code",
   "execution_count": 17,
   "metadata": {
    "scrolled": true
   },
   "outputs": [
    {
     "data": {
      "text/html": [
       "<div>\n",
       "<style scoped>\n",
       "    .dataframe tbody tr th:only-of-type {\n",
       "        vertical-align: middle;\n",
       "    }\n",
       "\n",
       "    .dataframe tbody tr th {\n",
       "        vertical-align: top;\n",
       "    }\n",
       "\n",
       "    .dataframe thead th {\n",
       "        text-align: right;\n",
       "    }\n",
       "</style>\n",
       "<table border=\"1\" class=\"dataframe\">\n",
       "  <thead>\n",
       "    <tr style=\"text-align: right;\">\n",
       "      <th></th>\n",
       "      <th>Wood Deck SF</th>\n",
       "      <th>Open Porch SF</th>\n",
       "      <th>Fireplaces</th>\n",
       "      <th>Full Bath</th>\n",
       "      <th>1st Flr SF</th>\n",
       "      <th>Garage Area</th>\n",
       "      <th>Gr Liv Area</th>\n",
       "      <th>Overall Qual</th>\n",
       "    </tr>\n",
       "  </thead>\n",
       "  <tbody>\n",
       "    <tr>\n",
       "      <th>count</th>\n",
       "      <td>1460.000000</td>\n",
       "      <td>1460.000000</td>\n",
       "      <td>1460.000000</td>\n",
       "      <td>1460.000000</td>\n",
       "      <td>1460.000000</td>\n",
       "      <td>1460.000000</td>\n",
       "      <td>1460.000000</td>\n",
       "      <td>1460.000000</td>\n",
       "    </tr>\n",
       "    <tr>\n",
       "      <th>mean</th>\n",
       "      <td>0.138207</td>\n",
       "      <td>0.084983</td>\n",
       "      <td>0.198402</td>\n",
       "      <td>0.391438</td>\n",
       "      <td>0.335449</td>\n",
       "      <td>0.318119</td>\n",
       "      <td>0.351245</td>\n",
       "      <td>0.567580</td>\n",
       "    </tr>\n",
       "    <tr>\n",
       "      <th>std</th>\n",
       "      <td>0.181836</td>\n",
       "      <td>0.118058</td>\n",
       "      <td>0.215846</td>\n",
       "      <td>0.136459</td>\n",
       "      <td>0.160668</td>\n",
       "      <td>0.142642</td>\n",
       "      <td>0.151916</td>\n",
       "      <td>0.156512</td>\n",
       "    </tr>\n",
       "    <tr>\n",
       "      <th>min</th>\n",
       "      <td>0.000000</td>\n",
       "      <td>0.000000</td>\n",
       "      <td>0.000000</td>\n",
       "      <td>0.000000</td>\n",
       "      <td>0.000000</td>\n",
       "      <td>0.000000</td>\n",
       "      <td>0.000000</td>\n",
       "      <td>0.000000</td>\n",
       "    </tr>\n",
       "    <tr>\n",
       "      <th>25%</th>\n",
       "      <td>0.000000</td>\n",
       "      <td>0.000000</td>\n",
       "      <td>0.000000</td>\n",
       "      <td>0.250000</td>\n",
       "      <td>0.211704</td>\n",
       "      <td>0.224798</td>\n",
       "      <td>0.238091</td>\n",
       "      <td>0.444444</td>\n",
       "    </tr>\n",
       "    <tr>\n",
       "      <th>50%</th>\n",
       "      <td>0.000000</td>\n",
       "      <td>0.047532</td>\n",
       "      <td>0.333333</td>\n",
       "      <td>0.500000</td>\n",
       "      <td>0.307229</td>\n",
       "      <td>0.322581</td>\n",
       "      <td>0.339274</td>\n",
       "      <td>0.555556</td>\n",
       "    </tr>\n",
       "    <tr>\n",
       "      <th>75%</th>\n",
       "      <td>0.251497</td>\n",
       "      <td>0.127971</td>\n",
       "      <td>0.333333</td>\n",
       "      <td>0.500000</td>\n",
       "      <td>0.434703</td>\n",
       "      <td>0.387097</td>\n",
       "      <td>0.429439</td>\n",
       "      <td>0.666667</td>\n",
       "    </tr>\n",
       "    <tr>\n",
       "      <th>max</th>\n",
       "      <td>1.000000</td>\n",
       "      <td>1.000000</td>\n",
       "      <td>1.000000</td>\n",
       "      <td>1.000000</td>\n",
       "      <td>1.000000</td>\n",
       "      <td>1.000000</td>\n",
       "      <td>1.000000</td>\n",
       "      <td>1.000000</td>\n",
       "    </tr>\n",
       "  </tbody>\n",
       "</table>\n",
       "</div>"
      ],
      "text/plain": [
       "       Wood Deck SF  Open Porch SF   Fireplaces    Full Bath   1st Flr SF  \\\n",
       "count   1460.000000    1460.000000  1460.000000  1460.000000  1460.000000   \n",
       "mean       0.138207       0.084983     0.198402     0.391438     0.335449   \n",
       "std        0.181836       0.118058     0.215846     0.136459     0.160668   \n",
       "min        0.000000       0.000000     0.000000     0.000000     0.000000   \n",
       "25%        0.000000       0.000000     0.000000     0.250000     0.211704   \n",
       "50%        0.000000       0.047532     0.333333     0.500000     0.307229   \n",
       "75%        0.251497       0.127971     0.333333     0.500000     0.434703   \n",
       "max        1.000000       1.000000     1.000000     1.000000     1.000000   \n",
       "\n",
       "       Garage Area  Gr Liv Area  Overall Qual  \n",
       "count  1460.000000  1460.000000   1460.000000  \n",
       "mean      0.318119     0.351245      0.567580  \n",
       "std       0.142642     0.151916      0.156512  \n",
       "min       0.000000     0.000000      0.000000  \n",
       "25%       0.224798     0.238091      0.444444  \n",
       "50%       0.322581     0.339274      0.555556  \n",
       "75%       0.387097     0.429439      0.666667  \n",
       "max       1.000000     1.000000      1.000000  "
      ]
     },
     "execution_count": 17,
     "metadata": {},
     "output_type": "execute_result"
    }
   ],
   "source": [
    "unit_train = (train[features] - train[features].min()) / (train[features].max() - train[features].min())\n",
    "unit_train.describe()"
   ]
  },
  {
   "cell_type": "code",
   "execution_count": 18,
   "metadata": {
    "scrolled": true
   },
   "outputs": [
    {
     "name": "stdout",
     "output_type": "stream",
     "text": [
      "Open Porch SF    0.013938\n",
      "Full Bath        0.018621\n",
      "Garage Area      0.020347\n",
      "Gr Liv Area      0.023078\n",
      "Overall Qual     0.024496\n",
      "1st Flr SF       0.025814\n",
      "Wood Deck SF     0.033064\n",
      "Fireplaces       0.046589\n",
      "dtype: float64\n"
     ]
    }
   ],
   "source": [
    "# Check variance\n",
    "print(unit_train.var().sort_values())"
   ]
  },
  {
   "cell_type": "markdown",
   "metadata": {},
   "source": [
    "`Open Porch SF` is the column with lowest variance and the its distance from the next column `Full Bath` is greatest than any two other adjacent values. So we will remove this column from the features."
   ]
  },
  {
   "cell_type": "code",
   "execution_count": 19,
   "metadata": {},
   "outputs": [
    {
     "name": "stdout",
     "output_type": "stream",
     "text": [
      "34372.696707783965\n",
      "40591.427024377204\n"
     ]
    }
   ],
   "source": [
    "# final_corr_cols = strong_corrs.drop(['Garage Cars', 'TotRms AbvGrd'])\n",
    "# test = test[final_corr_cols.index]\n",
    "# clean_test = test.dropna()\n",
    "\n",
    "\n",
    "from sklearn.linear_model import LinearRegression\n",
    "from sklearn.metrics import mean_squared_error\n",
    "\n",
    "lr = LinearRegression()\n",
    "features = features.drop('Open Porch SF')\n",
    "target = 'SalePrice'\n",
    "lr.fit(train[features], train[target])\n",
    "train_predictions = lr.predict(train[features])\n",
    "test_predictions = lr.predict(clean_test[features])\n",
    "\n",
    "train_mse = mean_squared_error(train_predictions, train[target])\n",
    "test_mse = mean_squared_error(test_predictions, clean_test[target])\n",
    "\n",
    "train_rmse_2 = np.sqrt(train_mse)\n",
    "test_rmse_2 = np.sqrt(test_mse)\n",
    "\n",
    "print(train_rmse_2)\n",
    "print(test_rmse_2)"
   ]
  },
  {
   "cell_type": "code",
   "execution_count": 20,
   "metadata": {
    "scrolled": true
   },
   "outputs": [
    {
     "name": "stdout",
     "output_type": "stream",
     "text": [
      "count      2930.000000\n",
      "mean     180796.060068\n",
      "std       79886.692357\n",
      "min       12789.000000\n",
      "25%      129500.000000\n",
      "50%      160000.000000\n",
      "75%      213500.000000\n",
      "max      755000.000000\n",
      "Name: SalePrice, dtype: float64\n"
     ]
    }
   ],
   "source": [
    "print(data.SalePrice.describe())"
   ]
  },
  {
   "cell_type": "markdown",
   "metadata": {},
   "source": [
    "From original data above it can be seen that the mean price is 180796 and our model has been able to predict within 40591 on the test set. This is still quite high but is most likely the furthest we can go without transforming and utilizing the other features in the dataset. "
   ]
  },
  {
   "attachments": {
    "image.png": {
     "image/png": "[encoded data removed]"
    }
   },
   "cell_type": "markdown",
   "metadata": {},
   "source": [
    "------\n",
    "## Sec-3 - Gradient Descent\n",
    "\n",
    "Above, we saw how the linear regression model estimates the relationship between the feature columns and the target column and how we can use that for making predictions. In this section and the next, we'll discuss the two most common ways for finding the optimal parameter values for a linear regression model. Each combination of unique parameter values forms a unique linear regression model, and the process of finding these optimal values is known as **model fitting**. In both approaches to model fitting, we'll aim to minimize the following function:\n",
    "$$MSE = \\frac{1}{n} \\sum_{i=1}^{n} ({\\hat{y_i} - y_i})^2$$\n",
    "\n",
    "This function is the mean squared error between the predicted labels made using a given model and the true labels. The problem of choosing a set of values that minimize or maximize another function is known as an optimization problem.\n",
    "\n",
    "To build intuition for the optimization process, we'll start with a single parameter linear regression model:\n",
    "$$\\hat{y} = a_1x_1$$\n",
    "Note that this is different from simple regression model:\n",
    "$$\\hat{y} = a_1x_1 + a_0$$\n",
    "\n",
    "We'll use `Gr Liv Area` column for the single parameter:\n",
    "$$\\hat{SalePrice} = a_1 * Gr Liv Area$$\n",
    "\n",
    "![image.png](attachment:image.png)"
   ]
  },
  {
   "cell_type": "markdown",
   "metadata": {},
   "source": [
    "Above, we can observed how the optimization function follows a curve with a minimum value. Using calculus, we can compute the critical points by calculating the curve's derivative, setting it equal to 0, and finding the x value at this point. Unfortunately, this approach won't work when we have multiple parameter values because minimizing one parameter value may increase another parameter's value. In addition, while we can plot the MSE curve when we only have a single parameter we're trying to find and visually select the value that minimizes the MSE, this approach won't work when we have multiple parameter values because we can't visualize past 3 dimensions.\n",
    "\n",
    "Instead, we'll explore an iterative technique for solving this problem, known as **gradient descent**. The gradient descent algorithm works by iteratively trying different parameter values until the model with the lowest mean squared error is found. Gradient descent is a commonly used optimization technique for other models as well, like neural networks. \n",
    "\n",
    "Below is an overview of the gradient descent algorithm for a single parameter linear regression model:\n",
    "\n",
    "- select initial values for the parameter: a1\n",
    "- repeat until convergence (usually implemented with a max number of iterations): \n",
    "    - calculate the error (MSE) of model that uses current parameter value: $MSE(a_1) = \\frac{1}{n} \\sum_{i=1}^{n} (\\hat{y}^{(i)} - y^{(i)} ) ^2$\n",
    "    - calculate the derivative of the error (MSE) at the current parameter value: $\\frac{d}{da_1} MSE(a_1)$\n",
    "    - update the parameter value by subtracting the derivative times a constant (α, called the learning rate): $a_1 := a_1 - \\alpha \\frac{d}{da_1} MSE(a_1)$\n",
    "    \n",
    "In the last step of the algorithm, we used := to indicate that the value on the right is assigned to the variable on the left. While in Python, we've used the equals operator (=) for assignment, we've used it in math (=) to signify equality. For example, a = 1 in Python assigns the value 1 to the variable a. In math, a=1 asserts that a is equal to 1. In mathematical papers, sometimes ← is also used to signify assignment:    \n",
    "$$a_1 \\leftarrow a_1 - \\alpha \\frac{d}{da_1} MSE(a_1)$$\n",
    "\n",
    "Selecting an appropriate initial parameter and learning rate will reduce the number of iterations required to converge, and is part of **hyperparameter optimization**."
   ]
  },
  {
   "cell_type": "markdown",
   "metadata": {},
   "source": [
    "### Derivative of the Cost Function\n",
    "\n",
    "In mathematical optimization, a function that we optimize through minimization is known as a cost function or sometimes as the loss function. Because we're trying to fit a single parameter model, we can replace $\\hat{y}^{(i)}$ with $a_1x_1^{(i)}$ in the cost function:\n",
    "$$MSE(a_1) = \\frac{1}{n} \\sum_{i=1}^{n} (a_1x_1^{(i)} - y^{(i)} ) ^2$$\n",
    "\n",
    "We will simplify the derivative of the function to a computable form.\n",
    "\n",
    "$$\\frac{d}{da_1} MSE(a_1) = \\frac{d}{da_1} \\frac{1}{n} \\sum_{i=1}^{n} (a_1x_1^{(i)} - y^{(i)} ) ^2$$\n",
    "\n",
    "$$\\frac{d}{da_1} MSE(a_1) = \\frac{1}{n} \\sum_{i=1}^{n} \\frac{d}{da_1} (a_1x_1^{(i)} - y^{(i)} ) ^2$$\n",
    "\n",
    "We can apply both the power rule and the chain rule to simplify this. \n",
    "$$\\frac{d}{da_1} MSE(a_1) = \\frac{1}{n} \\sum_{i=1}^{n} 2(a_1x_1^{(i)} - y^{(i)})  \\frac{d}{da_1} (a_1x_1^{(i)} - y^{(i)} )$$\n",
    "\n",
    "Because we are differentiating $a_1x_1^{(i)} - y^{(i)}$ with respect to a1, we treat $y^{(i)}$ and $x_1^{(i)}$ as constants. $\\frac{d}{da_1} (a_1x_1^{(i)} - y^{(i)})$ then simplifies to then simplifies to just $x_1^{(i)}$\n",
    "\n",
    "$$\\frac{d}{da_1} MSE(a_1) = \\frac{2}{n} \\sum_{i=1}^{n} x_1^{(i)}(a_1x_1^{(i)} - y^{(i)})$$\n",
    "\n",
    "For every iteration of gradient descent:\n",
    "\n",
    "- this derivative is computed using the current a1 value\n",
    "- the derivative is multiplied by the learning rate $\\alpha$: $\\alpha \\frac{d}{da_1} MSE(a_1)$\n",
    "\n",
    "the result is subtracted from the current parameter value and assigned as the new parameter value: $a_1 := a_1 - \\alpha \\frac{d}{da_1} MSE(a_1)$\n",
    "\n",
    "Below, we will write functions to calculate both the derivative and the gradient descent."
   ]
  },
  {
   "cell_type": "code",
   "execution_count": 21,
   "metadata": {},
   "outputs": [],
   "source": [
    "def derivative(a1, xi_list, yi_list):\n",
    "    \"\"\"calculates derivate at current value of a1\n",
    "    Args:\n",
    "    a1(float): parameter of differentiation (co-efficient of equation)\n",
    "    xi(list): feature\n",
    "    yi(list): target\n",
    "    Returns:\n",
    "    float: derivative with respect to a1\"\"\"\n",
    "    error = 0\n",
    "    for i in range(0, len(xi_list)):\n",
    "        error = error + (xi_list[i] * (a1*xi_list[i] - yi_list[i]))\n",
    "    deriv = 2*error/len(xi_list)   \n",
    "    return deriv  \n",
    "\n",
    "def gradient_descent(xi_list, yi_list, max_iterations, alpha, a1_initial):\n",
    "    a1_list = [a1_initial]\n",
    "\n",
    "    for i in range(0, max_iterations):\n",
    "        a1 = a1_list[i]\n",
    "        deriv = derivative(a1, xi_list, yi_list)\n",
    "        a1_new = a1 - alpha*deriv\n",
    "        a1_list.append(a1_new)\n",
    "    return(a1_list)\n",
    "                   \n",
    "                   "
   ]
  },
  {
   "cell_type": "code",
   "execution_count": 22,
   "metadata": {},
   "outputs": [
    {
     "data": {
      "text/plain": [
       "120.14219147202738"
      ]
     },
     "execution_count": 22,
     "metadata": {},
     "output_type": "execute_result"
    }
   ],
   "source": [
    "# Calculate for 20 iterations, a1 = 150 and alpha = 0.0000003\n",
    "param_iterations = gradient_descent(train['Gr Liv Area'], train['SalePrice'], 20, .0000003, 150)\n",
    "final_param = param_iterations[-1]\n",
    "final_param"
   ]
  },
  {
   "cell_type": "markdown",
   "metadata": {},
   "source": [
    "### Multi-parameter Gradient Descent\n",
    "Above, we were concerned with minimizing the following cost function:\n",
    "$$\\displaystyle  MSE(a_1) = \\frac{1}{n} \\sum\\limits_{i=1}^{n} \\left(a_1x_1^{(i)} - y^{(i)}\\right) ^2$$\n",
    "\n",
    "When we have 2 parameter values (a0 and a1), the cost function is now a function of two variables, not one:\n",
    "\n",
    "$$\\displaystyle  MSE(a_0, a_1) = \\dfrac{1}{n} \\sum\\limits_{i=1}^{n} \\left(a_0 + a_1x_1^{(i)} - y^{(i)} \\right) ^2$$\n",
    "\n",
    "Instead of one update rule, we now need two update rules. We need one for a0:\n",
    "\n",
    "$$\\displaystyle a_0 := a_0 - \\alpha \\dfrac{d}{da_0} MSE(a_0, a_1)$$\n",
    "and one for a1:\n",
    "$$a_1 := a_1 - \\alpha \\dfrac{d}{da_1} MSE(a_0, a_1)$$\n",
    "\n",
    "Above, we determined that $\\frac{d}{da_1} MSE(a_1)$ worked out to:\n",
    "$$\\displaystyle \\frac{2}{n} \\sum\\limits_{i=1}^{n} x_1^{(i)}\\left(a_1x_1^{(i)} - y^{(i)}\\right)$$\n",
    "\n",
    "For the multiparameter case, we need to include the additional parameter:\n",
    "$$\\displaystyle  \\dfrac{d}{da_1} MSE(a_0, a_1) = \\frac{2}{n} \\sum\\limits_{i=1}^{n} x_1^{(i)}\\left(a_0 + a_1x_1^{(i)} - y^{(i)}\\right)$$\n",
    "\n",
    "and\n",
    "\\displaystyle  \\dfrac{d}{da_0} MSE(a_0, a_1) = \\frac{2}{n} \\sum\\limits_{i=1}^{n} \\left(a_0 + a_1x_1^{(i)} - y^{(i)}\\right)\n",
    "\n",
    "Below, we will rewrite the `derivative` and `gradient_descent` functions to include the additional parameter."
   ]
  },
  {
   "cell_type": "code",
   "execution_count": 23,
   "metadata": {},
   "outputs": [],
   "source": [
    "# derivative wrt a1\n",
    "def a1_derivative(a0, a1, xi_list, yi_list):\n",
    "    len_data = len(xi_list)\n",
    "    error = 0\n",
    "    for i in range(0, len_data):\n",
    "        error += xi_list[i]*(a0 + a1*xi_list[i] - yi_list[i])\n",
    "    deriv = 2*error/len_data\n",
    "    return deriv\n",
    "# derivative wrt a0\n",
    "def a0_derivative(a0, a1, xi_list, yi_list):\n",
    "    len_data = len(xi_list)\n",
    "    error = 0\n",
    "    for i in range(0, len_data):\n",
    "        error += (a0 + a1*xi_list[i] - yi_list[i])\n",
    "    deriv = 2*error/len_data\n",
    "    return deriv\n",
    "# Updated gradient_descent\n",
    "def gradient_descent(xi_list, yi_list, max_iterations, alpha, a1_initial, a0_initial):\n",
    "    a1_list = [a1_initial]\n",
    "    a0_list = [a0_initial]\n",
    "\n",
    "    for i in range(0, max_iterations):\n",
    "        a1 = a1_list[i]\n",
    "        a0 = a0_list[i]\n",
    "        \n",
    "        a1_deriv = a1_derivative(a0, a1, xi_list, yi_list)\n",
    "        a0_deriv = a0_derivative(a0, a1, xi_list, yi_list)\n",
    "        \n",
    "        a1_new = a1 - alpha*a1_deriv\n",
    "        a0_new = a0 - alpha*a0_deriv\n",
    "        \n",
    "        a1_list.append(a1_new)\n",
    "        a0_list.append(a0_new)\n",
    "    return(a0_list, a1_list)   \n",
    "\n"
   ]
  },
  {
   "cell_type": "code",
   "execution_count": 24,
   "metadata": {
    "scrolled": true
   },
   "outputs": [
    {
     "name": "stdout",
     "output_type": "stream",
     "text": [
      "999.986114052572 119.53179462379771\n"
     ]
    }
   ],
   "source": [
    "# Calculate parameters for given number of iterations, alpha and initial values of a1 = 150 and a0 = 1000\n",
    "a0_params, a1_params = gradient_descent(train['Gr Liv Area'], train['SalePrice'], 20, .0000003, 150, 1000)\n",
    "print(a0_params[-1], a1_params[-1])"
   ]
  },
  {
   "cell_type": "markdown",
   "metadata": {},
   "source": [
    "### Gradient Descent for Higher Dimensions\n",
    "\n",
    "Gradient descent scales to as many variables as we want. Each parameter value will need its own update rule, and it closely matches the update rule for a1:\n",
    "\n",
    "$$\n",
    "\\displaystyle  a_0 := a_0 - \\alpha \\dfrac{d}{da_0} MSE \\\\\n",
    " a_1 := a_1 - \\alpha \\dfrac{d}{da_1} MSE \\\\ \n",
    " a_2 := a_2 - \\alpha \\dfrac{d}{da_2} MSE \\\\ \n",
    " \\vdots\\\\\n",
    " a_n := a_n - \\alpha \\dfrac{d}{da_n} MSE \\\\\n",
    " $$\n",
    " \n",
    "Besides the derivative for the MSE with respect to the intercept value (a0), the derivatives for other parameters are identical:\n",
    "\n",
    "$$\n",
    "\\displaystyle  \\dfrac{d}{da_1} MSE = \\frac{2}{n} \\sum_{i=1}^{n} x_1^{(i)}\\left(\\hat{y}^{(i)} - y^{(i)}\\right) \\\\  \n",
    "\\displaystyle \\dfrac{d}{da_2} MSE = \\dfrac{2}{n} \\sum_{i=1}^{n} x_2^{(i)}\\left(\\hat{y}^{(i)} - y^{(i)}\\right) \\\\\n",
    " \\vdots\\\\\n",
    "\\displaystyle \\dfrac{d}{da_n} MSE = \\dfrac{2}{n} \\sum_{i=1}^{n} x_n^{(i)}\\left(\\hat{y}^{(i)} - y^{(i)}\\right)  \\\\\n",
    "$$\n",
    "\n",
    "The main challenges with gradient descent include:\n",
    "\n",
    "- Choosing good initial parameter values\n",
    "- Choosing a good learning rate (falls under the domain of hyperparameter optimization)"
   ]
  },
  {
   "attachments": {
    "image.png": {
     "image/png": "[encoded data removed]"
    }
   },
   "cell_type": "markdown",
   "metadata": {},
   "source": [
    "------\n",
    "## Sec-4 - Ordinary Least Squares\n",
    "Above, we explored an iterative technique for model fitting named gradient descent. The gradient descent algorithm requires multiple iterations to converge on the optimal parameter values and the number of iterations is highly dependent on the initial parameter values and the learning rate we select. In this mission, we'll explore a technique called ordinary least squares estimation or OLS estimation for short. \n",
    "Unlike gradient descent, OLS estimation provides a clear formula to directly calculate the optimal parameter values that minimize the cost function. To understand OLS estimation, we need to first frame our linear regression problem in the matrix form. So far, we've mostly worked with the following form of the linear regression model:\n",
    "$$\\hat{y} = a_0 + a_1x_1 + a_2x_2 + ... + a_nx_n$$\n",
    "While this form represents the relationship between the features (x1 to xn) and the target column (y) well when there are just a few parameter values, it doesn't scale well when we have hundreds of parameters. Matrix notation lets us better represent and reason about a linear system with many variables. With that in mind, here's what the matrix form of our linear regression model looks like:\n",
    "$$Xa  =  \\hat{y}$$\n",
    "\n",
    "Where X is a matrix representing the columns from the training set our model uses, a is a vector representing the parameter values, and y^ is the vector of predictions. Here's a diagram with some sample values for each:\n",
    "\n",
    "![image.png](attachment:image.png)\n",
    "\n",
    "the OLS estimation equation that results in the optimal vector a is given as:\n",
    "$$a = (X^TX)^{-1} X^Ty$$\n",
    "\n",
    "Scikit-learn uses OLS under the hood when we call `fit()` on a [LinearRegression instance](https://scikit-learn.org/stable/modules/generated/sklearn.linear_model.LinearRegression.html). LinearRegression fits a linear model with coefficients w = (w1, …, wp) to minimize the residual sum of squares between the observed targets in the dataset, and the targets predicted by the linear approximation.\n",
    "\n",
    " We will start by computing OLS estimation to find the best parameters for a model using the features that we have determined above:\n",
    " \n",
    " \n",
    "Below, we will:\n",
    "- Select just the features in features from the training set and assign to `X`.\n",
    "- Select the SalePrice column from the training set and assign to `y`.\n",
    "- Use the OLS estimation formula to return the optimal parameter values. Store the estimation to the variable `ols_estimation`"
   ]
  },
  {
   "cell_type": "code",
   "execution_count": 25,
   "metadata": {},
   "outputs": [
    {
     "data": {
      "text/plain": [
       "array([   53.75693376, 18232.31375751, -6434.65300989,    22.53151963,\n",
       "          86.81522574,    28.08976713, 11397.64135314])"
      ]
     },
     "execution_count": 25,
     "metadata": {},
     "output_type": "execute_result"
    }
   ],
   "source": [
    "features = ['Wood Deck SF', 'Fireplaces', 'Full Bath', '1st Flr SF', 'Garage Area',\n",
    "       'Gr Liv Area', 'Overall Qual']\n",
    "X = train[features]\n",
    "y = train['SalePrice']\n",
    "\n",
    "ols_estimation_term1 = np.linalg.inv(np.dot(np.transpose(X), X)) \n",
    "ols_estimation_term2 = np.dot(np.transpose(X), y)\n",
    "ols_estimation = np.dot(ols_estimation_term1, ols_estimation_term2)\n",
    "ols_estimation"
   ]
  },
  {
   "cell_type": "markdown",
   "metadata": {},
   "source": [
    "### Cost Function\n",
    "\n",
    "Unlike gradient descent, OLS estimation provides what is known as a **closed form solution** to the problem of finding the optimal parameter values. A closed form solution is one where a solution can be computed arithmetically with a predictable amount of mathematical operations. Gradient descent, on the other hand, is an algorithmic approach that can require a different number of iterations (and therefore a different number of mathematical operations) based on the initial parameter values, the learning rate, etc. While the approach is different, both techniques share the high level objective of minimizing the cost function.\n",
    "\n",
    "error is the difference between the predictions made using the model y^ and the actual labels y, it's represented as a vector. The greek letter for E (epsilon ϵ) is often used to represent the error vector:\n",
    "$$\\epsilon =  \\hat{y} - y$$\n",
    "\n",
    "We can build on this to define y:\n",
    "$$y = Xa - \\epsilon$$\n",
    "\n",
    "we have 2 unknowns (the vector a and the vector y). We're looking for a model, represented using the parameter vector a, that will minimize the mean squared error between the labels, y, and the predictions, ˆy. Said another way, the cost function is this mean squared error.\n",
    "Here's what the cost function looks like in matrix form:\n",
    "$$J(a) = \\dfrac{1}{n} (Xa - y)^T(Xa - y)$$\n",
    "\n"
   ]
  },
  {
   "cell_type": "markdown",
   "metadata": {},
   "source": [
    "### Derivative of the Cost Function\n",
    "Complete derivation can be found [here](https://eli.thegreenplace.net/2015/the-normal-equation-and-matrix-calculus/). The derivative of above given cost function is:\n",
    "$$\\frac{dJ(a)}{da} = 2X^TXa - 2X^Ty$$\n",
    "\n",
    "To find the vector a that minimizes the cost function J(a), we need to set the derivative equal to 0 and solve for a:\n",
    "\n",
    "$$2X^TXa - 2X^Ty = 0$$\n",
    "\n",
    " move the second term to the right hand side and divide both sides by 2:\n",
    " $$X^TXa = X^Ty$$\n",
    " \n",
    " Our goal is to isolate a, the parameter vector. The last step we need to perform is \"divide out\" XTX from the left hand side.\n",
    " \n",
    " e.g. We can cancel A from the following equation Ax=b by multiplying both sides by the inverse $A^{-1}Ax = A^{-1}b$ which leaves us with $x = A^{-1}b$\n",
    " \n",
    " To cancel $X^TX$ from the left side, we need to compute the inverse of it and multiply it by both sides. We're now left with the OLS estimation formula:\n",
    "\n",
    "$$a = (X^TX)^{-1}X^Ty$$"
   ]
  },
  {
   "cell_type": "markdown",
   "metadata": {},
   "source": [
    "### Gradient Descent versus Ordinary Least Squares\n",
    "\n",
    "The biggest limitation of OLS is that it is computationally expensive when the data is large.  This is because computing a matrix inverse has a computational complexity of approximately O(n^3). More about computational complexity of the matrix inverse and other common matrix operations can be foun on [Wikipedia](https://en.wikipedia.org/wiki/Computational_complexity_of_mathematical_operations#Matrix_algebra). \n",
    "\n",
    "OLS is commonly used when the number of elements in the dataset (and therefore the matrix that's inverted) is less than a few million elements. On larger datasets, gradient descent is used because it's much more flexible. For many practical problems, we can set a threshold accuracy value (or a set number of iterations) and use a \"good enough\" solution. This is especially useful when iterating and trying different features in our model."
   ]
  },
  {
   "cell_type": "markdown",
   "metadata": {},
   "source": [
    "-------\n",
    "### Sec-5 - Processing and Transforming Features\n",
    "\n",
    "To understand how linear regression works, we've stuck to using features from the training dataset that contained no missing values and were already in a convenient numeric representation.  In this section, we'll explore how to transform some of the remaining features so we can use them in our model. Broadly, the process of processing and creating new features is known as [feature engineering](https://en.wikipedia.org/wiki/Feature_engineering). Feature engineering is a bit of an art and having knowledge in the specific domain (in this case real estate) can help us create better features. In this section, we'll focus on some domain-independent strategies that work for all problems.  \n",
    "\n",
    "Initially, we'll focus only on columns that contain no missing values but still aren't in the proper format to use in a linear regression model. Latter, we'll also explore some ways to deal with missing values.\n",
    "\n",
    "Amongst the columns that don't contain missing values, some of the common issues include:\n",
    "\n",
    "- the column is not numerical (e.g. a zoning code represented using text)\n",
    "- the column is numerical but not ordinal (e.g. zip code values)\n",
    "- the column is numerical but isn't representative of the type of relationship with the target column (e.g. year values)\n",
    "\n",
    "\n",
    "\n",
    "Below, we'll start by filtering the training set to just the columns containing no missing values:\n",
    "- Select just the columns from the train data frame that contain no missing values.\n",
    "- Assign the resulting data frame, that contains just these columns, to `df_no_mv`."
   ]
  },
  {
   "cell_type": "code",
   "execution_count": 26,
   "metadata": {
    "scrolled": true
   },
   "outputs": [
    {
     "name": "stdout",
     "output_type": "stream",
     "text": [
      "<class 'pandas.core.frame.DataFrame'>\n",
      "RangeIndex: 1460 entries, 0 to 1459\n",
      "Data columns (total 58 columns):\n",
      " #   Column           Non-Null Count  Dtype  \n",
      "---  ------           --------------  -----  \n",
      " 0   Order            1460 non-null   int64  \n",
      " 1   PID              1460 non-null   int64  \n",
      " 2   MS SubClass      1460 non-null   int64  \n",
      " 3   MS Zoning        1460 non-null   object \n",
      " 4   Lot Area         1460 non-null   int64  \n",
      " 5   Street           1460 non-null   object \n",
      " 6   Lot Shape        1460 non-null   object \n",
      " 7   Land Contour     1460 non-null   object \n",
      " 8   Utilities        1460 non-null   object \n",
      " 9   Lot Config       1460 non-null   object \n",
      " 10  Land Slope       1460 non-null   object \n",
      " 11  Neighborhood     1460 non-null   object \n",
      " 12  Condition 1      1460 non-null   object \n",
      " 13  Condition 2      1460 non-null   object \n",
      " 14  Bldg Type        1460 non-null   object \n",
      " 15  House Style      1460 non-null   object \n",
      " 16  Overall Qual     1460 non-null   int64  \n",
      " 17  Overall Cond     1460 non-null   int64  \n",
      " 18  Year Built       1460 non-null   int64  \n",
      " 19  Year Remod/Add   1460 non-null   int64  \n",
      " 20  Roof Style       1460 non-null   object \n",
      " 21  Roof Matl        1460 non-null   object \n",
      " 22  Exterior 1st     1460 non-null   object \n",
      " 23  Exterior 2nd     1460 non-null   object \n",
      " 24  Exter Qual       1460 non-null   object \n",
      " 25  Exter Cond       1460 non-null   object \n",
      " 26  Foundation       1460 non-null   object \n",
      " 27  Heating          1460 non-null   object \n",
      " 28  Heating QC       1460 non-null   object \n",
      " 29  Central Air      1460 non-null   object \n",
      " 30  Electrical       1460 non-null   object \n",
      " 31  1st Flr SF       1460 non-null   int64  \n",
      " 32  2nd Flr SF       1460 non-null   int64  \n",
      " 33  Low Qual Fin SF  1460 non-null   int64  \n",
      " 34  Gr Liv Area      1460 non-null   int64  \n",
      " 35  Full Bath        1460 non-null   int64  \n",
      " 36  Half Bath        1460 non-null   int64  \n",
      " 37  Bedroom AbvGr    1460 non-null   int64  \n",
      " 38  Kitchen AbvGr    1460 non-null   int64  \n",
      " 39  Kitchen Qual     1460 non-null   object \n",
      " 40  TotRms AbvGrd    1460 non-null   int64  \n",
      " 41  Functional       1460 non-null   object \n",
      " 42  Fireplaces       1460 non-null   int64  \n",
      " 43  Garage Cars      1460 non-null   float64\n",
      " 44  Garage Area      1460 non-null   float64\n",
      " 45  Paved Drive      1460 non-null   object \n",
      " 46  Wood Deck SF     1460 non-null   int64  \n",
      " 47  Open Porch SF    1460 non-null   int64  \n",
      " 48  Enclosed Porch   1460 non-null   int64  \n",
      " 49  3Ssn Porch       1460 non-null   int64  \n",
      " 50  Screen Porch     1460 non-null   int64  \n",
      " 51  Pool Area        1460 non-null   int64  \n",
      " 52  Misc Val         1460 non-null   int64  \n",
      " 53  Mo Sold          1460 non-null   int64  \n",
      " 54  Yr Sold          1460 non-null   int64  \n",
      " 55  Sale Type        1460 non-null   object \n",
      " 56  Sale Condition   1460 non-null   object \n",
      " 57  SalePrice        1460 non-null   int64  \n",
      "dtypes: float64(2), int64(28), object(28)\n",
      "memory usage: 661.7+ KB\n"
     ]
    }
   ],
   "source": [
    "train_null_counts = train.isnull().sum()\n",
    "df_no_mv = train[train_null_counts[train_null_counts == 0].index]\n",
    "df_no_mv.info()"
   ]
  },
  {
   "cell_type": "markdown",
   "metadata": {},
   "source": [
    "### Categorical Features\n",
    "\n",
    "Some of the columns in the data frame df_no_mv contain string values. If these columns contain only a limited set of unique values, they're known as **categorical features**. As the name suggests, a categorical feature groups a specific training example into a specific category. Here are some examples from the dataset:"
   ]
  },
  {
   "cell_type": "code",
   "execution_count": 27,
   "metadata": {
    "scrolled": true
   },
   "outputs": [
    {
     "name": "stdout",
     "output_type": "stream",
     "text": [
      "AllPub    1457\n",
      "NoSewr       2\n",
      "NoSeWa       1\n",
      "Name: Utilities, dtype: int64\n"
     ]
    }
   ],
   "source": [
    "print(train['Utilities'].value_counts())"
   ]
  },
  {
   "cell_type": "code",
   "execution_count": 28,
   "metadata": {
    "scrolled": true
   },
   "outputs": [
    {
     "name": "stdout",
     "output_type": "stream",
     "text": [
      "Pave    1455\n",
      "Grvl       5\n",
      "Name: Street, dtype: int64\n"
     ]
    }
   ],
   "source": [
    "print(train['Street'].value_counts())"
   ]
  },
  {
   "cell_type": "code",
   "execution_count": 29,
   "metadata": {
    "scrolled": true
   },
   "outputs": [
    {
     "name": "stdout",
     "output_type": "stream",
     "text": [
      "1Story    743\n",
      "2Story    440\n",
      "1.5Fin    160\n",
      "SLvl       60\n",
      "SFoyer     35\n",
      "2.5Unf     11\n",
      "1.5Unf      8\n",
      "2.5Fin      3\n",
      "Name: House Style, dtype: int64\n"
     ]
    }
   ],
   "source": [
    "print(train['House Style'].value_counts())"
   ]
  },
  {
   "cell_type": "markdown",
   "metadata": {},
   "source": [
    "To use these features in our model, we need to transform them into numerical representations. Pandas makes this easy because the library has a special categorical data type. We can convert any column that contains no missing values (or an error will be thrown) to the categorical data type using the `pandas.Series.astype()` method:\n",
    "```\n",
    "train['Utilities'] = train['Utilities'].astype('category')\n",
    "```\n",
    "\n",
    "When a column is converted to the categorical data type, pandas assigns a code to each unique value in the column. Unless we access these values directly, most of the pandas manipulation operations that work for string columns will work for categorical ones as well.\n",
    "\n",
    "```\n",
    "print(train['Utilities'])\n",
    "\n",
    "\n",
    "AllPub\n",
    "1       AllPub\n",
    "2       AllPub\n",
    "3       AllPub\n",
    "4       AllPub\n",
    "5       AllPub\n",
    "\n",
    "```\n",
    "\n",
    "We need to use the `.cat` accessor followed by the `.codes` property to actually access the underlying numerical representation of a column:\n",
    "\n",
    "```\n",
    "train['Utilities'].cat.codes\n",
    "```\n",
    "\n",
    "Below, we will:\n",
    "- Convert all of the text columns in `train` to the categorical data type.\n",
    "- Select the `Utilities` column, return the categorical codes, and display the unique value counts for those codes: `train['Utilities'].cat.codes.value_counts()`"
   ]
  },
  {
   "cell_type": "code",
   "execution_count": 30,
   "metadata": {
    "scrolled": true
   },
   "outputs": [
    {
     "name": "stdout",
     "output_type": "stream",
     "text": [
      "MS Zoning: 6\n",
      "Street: 2\n",
      "Lot Shape: 4\n",
      "Land Contour: 4\n",
      "Utilities: 3\n",
      "Lot Config: 5\n",
      "Land Slope: 3\n",
      "Neighborhood: 26\n",
      "Condition 1: 9\n",
      "Condition 2: 6\n",
      "Bldg Type: 5\n",
      "House Style: 8\n",
      "Roof Style: 6\n",
      "Roof Matl: 5\n",
      "Exterior 1st: 14\n",
      "Exterior 2nd: 16\n",
      "Exter Qual: 4\n",
      "Exter Cond: 5\n",
      "Foundation: 6\n",
      "Heating: 6\n",
      "Heating QC: 4\n",
      "Central Air: 2\n",
      "Electrical: 4\n",
      "Kitchen Qual: 5\n",
      "Functional: 7\n",
      "Paved Drive: 3\n",
      "Sale Type: 9\n",
      "Sale Condition: 5\n"
     ]
    }
   ],
   "source": [
    "text_cols = df_no_mv.select_dtypes(include=['object']).columns\n",
    "for col in text_cols:\n",
    "    print(col+\":\", len(train[col].unique()))\n"
   ]
  },
  {
   "cell_type": "code",
   "execution_count": 31,
   "metadata": {
    "scrolled": true
   },
   "outputs": [
    {
     "name": "stderr",
     "output_type": "stream",
     "text": [
      "C:\\Anaconda\\lib\\site-packages\\pandas\\core\\frame.py:2963: SettingWithCopyWarning: \n",
      "A value is trying to be set on a copy of a slice from a DataFrame.\n",
      "Try using .loc[row_indexer,col_indexer] = value instead\n",
      "\n",
      "See the caveats in the documentation: https://pandas.pydata.org/pandas-docs/stable/user_guide/indexing.html#returning-a-view-versus-a-copy\n",
      "  self[k1] = value[k2]\n"
     ]
    }
   ],
   "source": [
    "# set as categorical variable\n",
    "train[text_cols] = train[text_cols].astype('category')\n"
   ]
  },
  {
   "cell_type": "code",
   "execution_count": 32,
   "metadata": {
    "scrolled": true
   },
   "outputs": [
    {
     "name": "stdout",
     "output_type": "stream",
     "text": [
      "0    1457\n",
      "2       2\n",
      "1       1\n",
      "dtype: int64\n",
      "3    1267\n",
      "0      98\n",
      "4      63\n",
      "2      18\n",
      "1      14\n",
      "dtype: int64\n"
     ]
    }
   ],
   "source": [
    "#display codes\n",
    "print(train['Utilities'].cat.codes.value_counts())\n",
    "print(train['Sale Condition'].cat.codes.value_counts())"
   ]
  },
  {
   "cell_type": "markdown",
   "metadata": {},
   "source": [
    "### Dummy Coding\n",
    "When we convert a column to the categorical data type, pandas assigns a number from 0 to `n-1` (where `n` is the number of unique values in a column) for each value. The drawback with this approach is that one of the assumptions of linear regression is violated here. Linear regression operates under the assumption that the features are linearly correlated with the target column. For a categorical feature, however, there's no actual numerical meaning to the categorical codes that pandas assigned for that column. An increase in the Utilities column from `1` to `2` has no correlation value with the target column, and the categorical codes are instead used for uniqueness and exclusivity (the category associated with `0` is different than the one associated with `1`).\n",
    "\n",
    "The common solution is to use a technique called dummy coding. Instead of having a single column with n integer codes, we have n binary columns. Here's what that would look like for the Utilities column:\n",
    "\n",
    ">\n",
    "Utilities_AllPub\n",
    "Utilities_NoSewr\tUtilities_NoSeWa\n",
    "1\t0\t0\n",
    "1\t0\t0\n",
    "1\t0\t0\n",
    "1\t0\t0>\n",
    "\n",
    "Because the original values for the first 4 rows were AllPub, in the new scheme, they contain the binary value for true (1) in the Utilities_AllPub column and 0 for the other 2 columns. Pandas has a convenience function to help us apply this transformation for all of the text columns called `pandas.get_dummies()`.\n",
    "\n",
    "Below, we will:\n",
    "- Convert all of the columns in `text_cols` from the `train` data frame into dummy columns.\n",
    "- Delete the original columns from `text_cols` from the train data frame."
   ]
  },
  {
   "cell_type": "code",
   "execution_count": 33,
   "metadata": {},
   "outputs": [],
   "source": [
    "col_dummies = pd.get_dummies(train[text_cols])\n",
    "train = pd.concat([train, col_dummies], axis = 1)\n"
   ]
  }
 ],
 "metadata": {
  "kernelspec": {
   "display_name": "Python 3",
   "language": "python",
   "name": "python3"
  },
  "language_info": {
   "codemirror_mode": {
    "name": "ipython",
    "version": 3
   },
   "file_extension": ".py",
   "mimetype": "text/x-python",
   "name": "python",
   "nbconvert_exporter": "python",
   "pygments_lexer": "ipython3",
   "version": "3.8.3"
  }
 },
 "nbformat": 4,
 "nbformat_minor": 4
}
