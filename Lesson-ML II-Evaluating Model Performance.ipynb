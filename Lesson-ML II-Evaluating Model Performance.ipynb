{
 "cells": [
  {
   "cell_type": "markdown",
   "metadata": {},
   "source": [
    "# Lesson - Machine Learning II: Evaluating Model Performance\n",
    "\n",
    "We have developed a function that can predict the price for any living space we want to list as long as we know the number of people it can accommodate. The function we have written represents a **machine learning model**, which means that it outputs a prediction based on the input to the model.\n",
    "\n",
    "A simple way to test the quality of our model is to:\n",
    "\n",
    "- split the dataset into 2 partitions:\n",
    "\n",
    " - the training set: contains the majority of the rows (75%)\n",
    " - the test set: contains the remaining minority of the rows (25%)\n",
    "- use the rows in the training set to predict the price value for the rows in the test set\n",
    " - add new column named predicted_price to the test set\n",
    "- compare the predicted_price values with the actual price values in the test set to see how accurate the predicted values were.\n",
    "\n",
    "\n",
    "This validation process, where we use the training set to make predictions and the test set to predict values for, is known as **train/test validation**. Whenever we're performing machine learning, we want to perform validation of some kind to ensure that our machine learning model can make good predictions on new data. While train/test validation isn't perfect, we'll use it to understand the validation process, to select an error metric.\n",
    "\n",
    "\n",
    "We will modify the `predict_price` function to use only the rows in the training set, instead of the full dataset, to find the nearest neighbors, average the price values for those rows, and return the predicted price value. Then, we'll use this function to predict the price for just the rows in the test set. Once we have the predicted price values, we can compare with the true price values and start to understand the model's effectiveness\n",
    "\n",
    "predict_price\n",
    "```\n",
    "def predict_price(new_listing):\n",
    "    ## DataFrame.copy() performs a deep copy\n",
    "    temp_df = dc_listings.copy()\n",
    "    temp_df['distance'] = temp_df['accommodates'].apply(lambda x: np.abs(x - new_listing))\n",
    "    temp_df = temp_df.sort_values('distance')\n",
    "    nearest_neighbor_prices = temp_df.iloc[0:5]['price']\n",
    "    predicted_price = nearest_neighbor_prices.mean()\n",
    "    return(predicted_price)\n",
    "```    "
   ]
  },
  {
   "cell_type": "markdown",
   "metadata": {},
   "source": [
    "**Exercise**\n",
    "\n",
    "- Within the `predict_price` function, change the Dataframe that `temp_df` is assigned to. Change it from `dc_listings` to train_df, so only the training set is used.\n",
    "- Use the Series method apply to pass all of the values in the accommodates column from `test_df` through the `predict_price `function.\n",
    "- Assign the resulting Series object to the `predicted_price` column in test_df."
   ]
  },
  {
   "cell_type": "code",
   "execution_count": 1,
   "metadata": {},
   "outputs": [],
   "source": [
    "import pandas as pd\n",
    "import numpy as np\n",
    "import matplotlib.pyplot as plt\n",
    "import seaborn as sns\n",
    "%matplotlib inline\n",
    "# Setting pandas display options for large data\n",
    "pd.options.display.max_rows = 200\n",
    "pd.options.display.max_columns = 150"
   ]
  },
  {
   "cell_type": "code",
   "execution_count": 20,
   "metadata": {},
   "outputs": [],
   "source": [
    "dc_listings = pd.read_csv(\"dc_airbnb.csv\")\n",
    "stripped_commas = dc_listings['price'].str.replace(',', '')\n",
    "stripped_dollars = stripped_commas.str.replace('$', '')\n",
    "dc_listings['price'] = stripped_dollars.astype('float')\n",
    "train_df = dc_listings.iloc[0:2792]\n",
    "test_df = dc_listings.iloc[2792:]\n",
    "\n"
   ]
  },
  {
   "cell_type": "code",
   "execution_count": 21,
   "metadata": {},
   "outputs": [
    {
     "data": {
      "text/plain": [
       "145.8"
      ]
     },
     "execution_count": 21,
     "metadata": {},
     "output_type": "execute_result"
    }
   ],
   "source": [
    "def predict_price(new_listing):\n",
    "    ## DataFrame.copy() performs a deep copy\n",
    "    temp_df = train_df.copy()\n",
    "    temp_df['distance'] = temp_df['accommodates'].apply(lambda x: np.abs(x - new_listing))\n",
    "    temp_df = temp_df.sort_values('distance')\n",
    "    nearest_neighbor_prices = temp_df.iloc[0:5]['price']\n",
    "    predicted_price = nearest_neighbor_prices.mean()\n",
    "    return(predicted_price)\n"
   ]
  },
  {
   "cell_type": "code",
   "execution_count": 6,
   "metadata": {
    "scrolled": true
   },
   "outputs": [
    {
     "name": "stdout",
     "output_type": "stream",
     "text": [
      "      price  predicted_price\n",
      "2792  120.0            104.0\n",
      "2793  140.0            177.4\n",
      "2794  299.0            145.8\n",
      "2795   85.0            177.4\n",
      "2796  175.0            187.2\n"
     ]
    },
    {
     "name": "stderr",
     "output_type": "stream",
     "text": [
      "<ipython-input-6-f21e15fa2f42>:3: SettingWithCopyWarning: \n",
      "A value is trying to be set on a copy of a slice from a DataFrame.\n",
      "Try using .loc[row_indexer,col_indexer] = value instead\n",
      "\n",
      "See the caveats in the documentation: https://pandas.pydata.org/pandas-docs/stable/user_guide/indexing.html#returning-a-view-versus-a-copy\n",
      "  test_df['predicted_price'] = test_df['accommodates'].apply(predict_price)\n"
     ]
    }
   ],
   "source": [
    "# Apply to test dataset\n",
    "\n",
    "test_df['predicted_price'] = test_df['accommodates'].apply(predict_price)\n",
    "print(test_df[['price','predicted_price']].head())"
   ]
  },
  {
   "cell_type": "markdown",
   "metadata": {},
   "source": [
    "### Error Metrics\n",
    "\n",
    "We now need a metric that quantifies how good the predictions were on the test set. This class of metrics is called an error metric. As the name suggests, an error metric quantifies how inaccurate our predictions were from the actual values. In our case, the error metric tells us how off our predicted price values were from the actual price values for the living spaces in the test dataset.\n",
    "\n",
    "We could start by calculating the difference between each predicted and actual value and then averaging these differences. This is referred to as mean error but isn't an effective error metric for most cases. Mean error treats a positive difference differently than a negative difference, but we're really interested in how far off the prediction is in either the positive or negative direction. If the true price was 200 dollars and the model predicted 210 or 190 it's off by 10 dollars either way.\n",
    "\n",
    "We can instead use the **mean absolute error (MAE)**, where we compute the absolute value of each error before we average all the errors.\n",
    "$$MAE = \\frac{1}{n} \\sum_{k=1}^{n} \\lvert (actual_1 - predicted_1) \\rvert + \\cdots + \\lvert (actual_n - predicted_n) \\rvert$$"
   ]
  },
  {
   "cell_type": "markdown",
   "metadata": {},
   "source": [
    "**Exercise**\n",
    "\n",
    "- Use `numpy.absolute()` to calculate the mean absolute error between `predicted_price` and `price`.\n",
    "Assign the MAE to `mae`"
   ]
  },
  {
   "cell_type": "code",
   "execution_count": 10,
   "metadata": {
    "scrolled": true
   },
   "outputs": [
    {
     "name": "stdout",
     "output_type": "stream",
     "text": [
      "56.29001074113876\n"
     ]
    },
    {
     "name": "stderr",
     "output_type": "stream",
     "text": [
      "<ipython-input-10-958cdd88b570>:1: SettingWithCopyWarning: \n",
      "A value is trying to be set on a copy of a slice from a DataFrame.\n",
      "Try using .loc[row_indexer,col_indexer] = value instead\n",
      "\n",
      "See the caveats in the documentation: https://pandas.pydata.org/pandas-docs/stable/user_guide/indexing.html#returning-a-view-versus-a-copy\n",
      "  test_df['error'] = np.absolute(test_df.predicted_price - test_df.price)\n"
     ]
    }
   ],
   "source": [
    "test_df['error'] = np.absolute(test_df.predicted_price - test_df.price)\n",
    "mae = test_df.error.mean()\n",
    "print(mae)"
   ]
  },
  {
   "cell_type": "markdown",
   "metadata": {},
   "source": [
    "### Mean Squared Error\n",
    "For many prediction tasks, we want to penalize predicted values that are further away from the actual value far more than those closer to the actual value.\n",
    "\n",
    "We can instead take the mean of the squared error values, which is called the **mean squared error or MSE** for short. The MSE makes the gap between the predicted and actual values more clear. A prediction that's off by 100 dollars will have an error (of 10,000) that's 100 times more than a prediction that's off by only 10 dollars (which will have an error of 100).\n",
    "\n",
    "$$MSE = \\frac{1}{n} \\sum_{k=1}^{n} (actual_1 - predicted_1)^{2} + \\cdots + (actual_n - predicted_n)^{2}$$\n",
    "where `n` represents the number of rows in the test set.\n",
    "\n",
    "\n",
    "**Exercise**\n",
    "\n",
    "Calculate the MSE value between the `predicted_price` and `price columns` and assign to `mse`."
   ]
  },
  {
   "cell_type": "code",
   "execution_count": 11,
   "metadata": {
    "scrolled": true
   },
   "outputs": [
    {
     "name": "stderr",
     "output_type": "stream",
     "text": [
      "<ipython-input-11-7502a23a5383>:1: SettingWithCopyWarning: \n",
      "A value is trying to be set on a copy of a slice from a DataFrame.\n",
      "Try using .loc[row_indexer,col_indexer] = value instead\n",
      "\n",
      "See the caveats in the documentation: https://pandas.pydata.org/pandas-docs/stable/user_guide/indexing.html#returning-a-view-versus-a-copy\n",
      "  test_df['squared_error'] = (test_df.predicted_price - test_df.price)**2\n"
     ]
    },
    {
     "data": {
      "text/plain": [
       "18646.525370569325"
      ]
     },
     "execution_count": 11,
     "metadata": {},
     "output_type": "execute_result"
    }
   ],
   "source": [
    "test_df['squared_error'] = (test_df.predicted_price - test_df.price)**2\n",
    "mse = test_df.squared_error.mean()\n",
    "mse"
   ]
  },
  {
   "cell_type": "markdown",
   "metadata": {},
   "source": [
    "### Training Another Model\n",
    "\n",
    "The model we trained achieved a mean squared error of around 18646.5. Is this a high or a low mean squared error value? What does this tell us about the quality of the predictions and the model? By itself, the mean squared error value for a single model isn't all that useful.\n",
    "\n",
    "The units of mean squared error in our case is dollars squared (not dollars), which makes it hard to reason about intuitively as well. We can, however, train another model and then compare the mean squared error values to see which model performs better on a relative basis. A low error metric means that the gap between the predicted list price and actual list price values is low while a high error metric means the gap is high.\n",
    "\n",
    "We will now train another model, this time using the `bathrooms` column, and compare MSE values.\n",
    "\n",
    "\n",
    "\n",
    "**Exercise**\n",
    "\n",
    "- Modify the `predict_price` function to use the `bathrooms` column instead of the `accommodates` column to make predictions.\n",
    "- Apply the function to `test_df` and assign the resulting Series object containing the predicted price values to the `predicted_price` column in `test_df`.\n",
    "- Calculate the squared error between the price and predicted_price columns in test_df and assign the resulting Series object to the `squared_error` column in `test_df`.\n",
    "- Calculate the mean of the squared_error column in `test_df` and assign to `mse`.\n",
    "- Use the print function  to display the MSE value."
   ]
  },
  {
   "cell_type": "code",
   "execution_count": 12,
   "metadata": {},
   "outputs": [
    {
     "name": "stderr",
     "output_type": "stream",
     "text": [
      "<ipython-input-12-4da8e0f0bd8e>:10: SettingWithCopyWarning: \n",
      "A value is trying to be set on a copy of a slice from a DataFrame.\n",
      "Try using .loc[row_indexer,col_indexer] = value instead\n",
      "\n",
      "See the caveats in the documentation: https://pandas.pydata.org/pandas-docs/stable/user_guide/indexing.html#returning-a-view-versus-a-copy\n",
      "  test_df['predicted_price'] = test_df['bathrooms'].apply(predict_price)\n",
      "<ipython-input-12-4da8e0f0bd8e>:11: SettingWithCopyWarning: \n",
      "A value is trying to be set on a copy of a slice from a DataFrame.\n",
      "Try using .loc[row_indexer,col_indexer] = value instead\n",
      "\n",
      "See the caveats in the documentation: https://pandas.pydata.org/pandas-docs/stable/user_guide/indexing.html#returning-a-view-versus-a-copy\n",
      "  test_df['squared_error'] = (test_df.predicted_price - test_df.price)**2\n"
     ]
    },
    {
     "data": {
      "text/plain": [
       "18405.444081632548"
      ]
     },
     "execution_count": 12,
     "metadata": {},
     "output_type": "execute_result"
    }
   ],
   "source": [
    "def predict_price(new_listing):\n",
    "    ## DataFrame.copy() performs a deep copy\n",
    "    temp_df = train_df.copy()\n",
    "    temp_df['distance'] = temp_df['bathrooms'].apply(lambda x: np.abs(x - new_listing))\n",
    "    temp_df = temp_df.sort_values('distance')\n",
    "    nearest_neighbor_prices = temp_df.iloc[0:5]['price']\n",
    "    predicted_price = nearest_neighbor_prices.mean()\n",
    "    return(predicted_price)\n",
    "\n",
    "test_df['predicted_price'] = test_df['bathrooms'].apply(predict_price)\n",
    "test_df['squared_error'] = (test_df.predicted_price - test_df.price)**2\n",
    "mse = test_df.squared_error.mean()\n",
    "mse"
   ]
  },
  {
   "cell_type": "markdown",
   "metadata": {},
   "source": [
    "### Root Mean Squared Error (RMSE)\n",
    "\n",
    "While comparing MSE values helps us identify which model performs better on a relative basis, it doesn't help us understand if the performance is good enough in general. This is because the units of the MSE metric are squared (in this case, dollars squared). An MSE value of 16377.5 dollars squared doesn't give us an intuitive sense of how far off the model's predictions are from the true price value in dollars.\n",
    "\n",
    "**Root mean squared error or RMSE** is an error metric whose units are the base unit (in our case, dollars). This error metric is calculated by taking the square root of the MSE value:\n",
    "\n",
    "$$RMSE = \\sqrt{MSE}$$\n",
    "\n",
    "Since the RMSE value uses the same units as the target column, we can understand how far off in real dollars we can expect the model to perform. \n",
    "We will now calculate the RMSE value of the model we trained using the bathrooms column."
   ]
  },
  {
   "cell_type": "code",
   "execution_count": 13,
   "metadata": {
    "scrolled": true
   },
   "outputs": [
    {
     "name": "stderr",
     "output_type": "stream",
     "text": [
      "<ipython-input-13-ac89626193d1>:10: SettingWithCopyWarning: \n",
      "A value is trying to be set on a copy of a slice from a DataFrame.\n",
      "Try using .loc[row_indexer,col_indexer] = value instead\n",
      "\n",
      "See the caveats in the documentation: https://pandas.pydata.org/pandas-docs/stable/user_guide/indexing.html#returning-a-view-versus-a-copy\n",
      "  test_df['predicted_price'] = test_df['bathrooms'].apply(predict_price)\n",
      "<ipython-input-13-ac89626193d1>:11: SettingWithCopyWarning: \n",
      "A value is trying to be set on a copy of a slice from a DataFrame.\n",
      "Try using .loc[row_indexer,col_indexer] = value instead\n",
      "\n",
      "See the caveats in the documentation: https://pandas.pydata.org/pandas-docs/stable/user_guide/indexing.html#returning-a-view-versus-a-copy\n",
      "  test_df['squared_error'] = (test_df.predicted_price - test_df.price)**2\n"
     ]
    },
    {
     "data": {
      "text/plain": [
       "135.6666653295221"
      ]
     },
     "execution_count": 13,
     "metadata": {},
     "output_type": "execute_result"
    }
   ],
   "source": [
    "def predict_price(new_listing):\n",
    "    ## DataFrame.copy() performs a deep copy\n",
    "    temp_df = train_df.copy()\n",
    "    temp_df['distance'] = temp_df['bathrooms'].apply(lambda x: np.abs(x - new_listing))\n",
    "    temp_df = temp_df.sort_values('distance')\n",
    "    nearest_neighbor_prices = temp_df.iloc[0:5]['price']\n",
    "    predicted_price = nearest_neighbor_prices.mean()\n",
    "    return(predicted_price)\n",
    "\n",
    "test_df['predicted_price'] = test_df['bathrooms'].apply(predict_price)f\n",
    "test_df['squared_error'] = (test_df.predicted_price - test_df.price)**2\n",
    "mse = test_df.squared_error.mean()\n",
    "import math\n",
    "rmse = math.sqrt(mse)\n",
    "rmse"
   ]
  },
  {
   "cell_type": "markdown",
   "metadata": {},
   "source": [
    "### Comparing MAE and RMSE\n",
    "\n",
    "The model achieved an RMSE value of approximately 135.6, which implies that we should expect for the model to be off by 135.6 dollars on average for the predicted price values. Given that most of the living spaces are listed at just a few hundred dollars, we need to reduce this error as much as possible to improve the model's usefulness.\n",
    "\n",
    "We discussed a few different error metrics we can use to understand a model's performance. As mentioned earlier, these individual error metrics are helpful for comparing models. To better understand a specific model, we can compare multiple error metrics for the same model. This requires a better understanding of the mathematical properties of the error metrics.\n",
    "\n",
    "If we look at the equation for MAE:\n",
    "$$MAE = \\frac{1}{n} \\sum_{k=1}^{n} \\lvert (actual_1 - predicted_1) \\rvert + \\cdots + \\lvert (actual_n - predicted_n) \\rvert$$\n",
    "\n",
    "notice that that the differences between predicted and actual values grow linearly. A prediction that's off by 10 dollars has a 10 times higher error than a prediction that's off by 1 dollar.\n",
    "\n",
    "If we look at the equation for RMSE, however:\n",
    "$$RMSE = \\sqrt { \\frac{ \\sum_{k=1}^{n} (actual_1 - predicted_1)^2 + \\cdots + (actual_n - predicted_n)^2 } {n} }$$\n",
    "\n",
    "We can notice that each error is squared before the square root of the sum of all the errors is taken. This means that the individual errors grows quadratically and has a different effect on the final RMSE value.\n",
    "\n",
    "We will look at an example using different data entirely. Below are 2 Series objects containing 2 sets of errors and assigned to errors_one and errors_two. \n",
    "\n",
    "- Calculate the MAE for `errors_one` and assign to `mae_one`.\n",
    "- Calculate the RMSE for `errors_one` and assign to `rmse_one`.\n",
    "- Calculate the MAE for `errors_two` and assign to `mae_two`.\n",
    "- Calculate the RMSE for `errors_two` and assign to `rmse_two`"
   ]
  },
  {
   "cell_type": "code",
   "execution_count": 18,
   "metadata": {},
   "outputs": [
    {
     "name": "stdout",
     "output_type": "stream",
     "text": [
      "7.5 7.905694150420948 62.5 235.82302686548658\n"
     ]
    }
   ],
   "source": [
    "import math\n",
    "\n",
    "def mae(error):\n",
    "    mae = sum(error)/len(error)\n",
    "    return mae\n",
    "\n",
    "def rmse(error):\n",
    "    squares = [] \n",
    "    for value in error:\n",
    "        square = value**2\n",
    "        squares.append(square)\n",
    "    rmse = math.sqrt(sum(squares)/ len(error))\n",
    "    return rmse\n",
    "    \n",
    "errors_one = pd.Series([5, 10, 5, 10, 5, 10, 5, 10, 5, 10, 5, 10, 5, 10, 5, 10, 5, 10])\n",
    "errors_two = pd.Series([5, 10, 5, 10, 5, 10, 5, 10, 5, 10, 5, 10, 5, 10, 5, 10, 5, 1000])\n",
    "\n",
    "mae_one = mae(errors_one)\n",
    "rmse_one = rmse(errors_one)\n",
    "mae_two = mae(errors_two)\n",
    "rmse_two = rmse(errors_two)\n",
    "print(mae_one, rmse_one, mae_two, rmse_two)"
   ]
  },
  {
   "cell_type": "markdown",
   "metadata": {},
   "source": [
    "### Conclusion\n",
    "While the MAE (7.5) to RMSE (7.9056941504209481) ratio was about 1:1 for the first list of errors, the MAE (62.5) to RMSE (235.82302686548658) ratio was closer to 1:4 for the second list of errors. In general, we should expect that the MAE value be much less than the RMSE value. The only difference between the 2 sets of errors is the extreme 1000 value in errors_two instead of 10. When we're working with larger data sets, we can't inspect each value to understand if there's one or some outliers or if all of the errors are systematically higher. Looking at the ratio of MAE to RMSE can help us understand if there are large but infrequent errors. \n",
    "Details can be read [here](https://medium.com/human-in-a-machine-world/mae-and-rmse-which-metric-is-better-e60ac3bde13d#.lyc8od1ix) in this post."
   ]
  }
 ],
 "metadata": {
  "kernelspec": {
   "display_name": "Python 3",
   "language": "python",
   "name": "python3"
  },
  "language_info": {
   "codemirror_mode": {
    "name": "ipython",
    "version": 3
   },
   "file_extension": ".py",
   "mimetype": "text/x-python",
   "name": "python",
   "nbconvert_exporter": "python",
   "pygments_lexer": "ipython3",
   "version": "3.8.3"
  }
 },
 "nbformat": 4,
 "nbformat_minor": 4
}
